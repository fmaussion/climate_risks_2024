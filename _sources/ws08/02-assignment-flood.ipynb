{
 "cells": [
  {
   "cell_type": "markdown",
   "id": "0",
   "metadata": {},
   "source": [
    "# Assignment: a more intense future flood\n",
    "\n",
    "Having calculated the cost of Hurricane Katrina in 2015, lets consider the impacts of the same flood event, but in one of the SSP projected future scenarios. In the data folder you downloaded, you'll find two additional SFINCS simulations of the flood event. These use the same meterological forcing as the historic simulation, but they have had sea level uplifted to that indicated by the AR6 sea level projections. It's a crude approximation, but allows to answer the question: \"what would be the impact of Hurricane Katrina with higher sea levels?\""
   ]
  },
  {
   "cell_type": "code",
   "execution_count": null,
   "id": "1",
   "metadata": {},
   "outputs": [],
   "source": [
    "#Import packages - these are not new\n",
    "import os\n",
    "import xarray as xr\n",
    "import geopandas as gpd\n",
    "import numpy as np\n",
    "import pandas as pd\n",
    "import matplotlib.pyplot as plt\n",
    "\n",
    "# These are new\n",
    "import rioxarray as rioxr  # Open geotiffs with xarray\n",
    "from rasterio.features import rasterize  # Convert vector data to raster (optional)"
   ]
  },
  {
   "cell_type": "markdown",
   "id": "2",
   "metadata": {},
   "source": [
    "## Data "
   ]
  },
  {
   "cell_type": "markdown",
   "id": "3",
   "metadata": {},
   "source": [
    "Let's read the additional dataset (here SSP585) together with the historical one:"
   ]
  },
  {
   "cell_type": "code",
   "execution_count": null,
   "id": "4",
   "metadata": {},
   "outputs": [],
   "source": [
    "ds_hist = xr.open_dataset('../data/flood/sfincs_simulations/hindcast_sfincs_map.nc')\n",
    "ds_ssp585 = xr.open_dataset('../data/flood/sfincs_simulations/2080_ssp585_sfincs_map.nc')"
   ]
  },
  {
   "cell_type": "markdown",
   "id": "5",
   "metadata": {},
   "source": [
    "Let's retrieve historical max flood depth like we did in the lesson: "
   ]
  },
  {
   "cell_type": "code",
   "execution_count": null,
   "id": "6",
   "metadata": {},
   "outputs": [],
   "source": [
    "# Historical\n",
    "max_flood_depth_hist = ds_hist['zsmax'].max(dim='timemax')"
   ]
  },
  {
   "cell_type": "markdown",
   "id": "7",
   "metadata": {},
   "source": [
    "The projection data has the same format as the historical file, but this time I removed the time component to reduce data size. We can therefore extract the max flood extent and depth directly out of the dataset without the use of `.max()`:"
   ]
  },
  {
   "cell_type": "code",
   "execution_count": null,
   "id": "8",
   "metadata": {},
   "outputs": [],
   "source": [
    "# Projection\n",
    "max_flood_depth_ssp585 = ds_ssp585['zsmax']"
   ]
  },
  {
   "cell_type": "markdown",
   "id": "9",
   "metadata": {},
   "source": [
    "**Plot the historical flood depth map. And for the projection scenario. Compare the two maps.** (*Hint: you can also plot the difference between the two*)"
   ]
  },
  {
   "cell_type": "code",
   "execution_count": null,
   "id": "10",
   "metadata": {},
   "outputs": [],
   "source": [
    "# Your answer here"
   ]
  },
  {
   "cell_type": "markdown",
   "id": "11",
   "metadata": {},
   "source": [
    "## Calculate future population risk"
   ]
  },
  {
   "cell_type": "markdown",
   "id": "12",
   "metadata": {},
   "source": [
    "**Compute the flood extent for each scenario (historical and future). Compute the flooded area in both cases, assuming that a grid point has an approximate area of 0.036 km$^2$. Did the flood area change much? How about the average flood depth?**"
   ]
  },
  {
   "cell_type": "code",
   "execution_count": null,
   "id": "13",
   "metadata": {},
   "outputs": [],
   "source": [
    "# Your answer here"
   ]
  },
  {
   "cell_type": "markdown",
   "id": "14",
   "metadata": {},
   "source": [
    "### \"Static\" computation of the affected population"
   ]
  },
  {
   "cell_type": "markdown",
   "id": "15",
   "metadata": {},
   "source": [
    "**Now use the WorldPop data from the lesson to compute the total population affected by the flood in each scenario:**"
   ]
  },
  {
   "cell_type": "code",
   "execution_count": null,
   "id": "16",
   "metadata": {},
   "outputs": [],
   "source": [
    "# Your answer here"
   ]
  },
  {
   "cell_type": "markdown",
   "id": "17",
   "metadata": {},
   "source": [
    "These numbers show that if the flood is larger, the affected population is larger as well. But this does not take into account possible future changes in population!"
   ]
  },
  {
   "cell_type": "markdown",
   "id": "18",
   "metadata": {},
   "source": [
    "### \"Projected\"  computation of the affected population"
   ]
  },
  {
   "cell_type": "markdown",
   "id": "19",
   "metadata": {},
   "source": [
    "We will now attempt to combine the ICLUS population projections with WorldPop to get an estimate of future population exposure. Read in the data first:"
   ]
  },
  {
   "cell_type": "code",
   "execution_count": null,
   "id": "20",
   "metadata": {},
   "outputs": [],
   "source": [
    "pop_proj = xr.open_dataset(\"../data/flood/population/cropped_ICLUS_v2_1_1_population_stripped.nc\")"
   ]
  },
  {
   "cell_type": "markdown",
   "id": "21",
   "metadata": {},
   "source": [
    "**As an approximation, create a `wordpop_future` variable which is the historical population scaled by the `ssp585_scaler` in the projection estimates.**"
   ]
  },
  {
   "cell_type": "code",
   "execution_count": null,
   "id": "22",
   "metadata": {},
   "outputs": [],
   "source": [
    "# Your answer here"
   ]
  },
  {
   "cell_type": "markdown",
   "id": "23",
   "metadata": {},
   "source": [
    "**Now use this new future population estimate to compute the total number of affected people in the future scenario. Interpret the result.**"
   ]
  },
  {
   "cell_type": "code",
   "execution_count": null,
   "id": "24",
   "metadata": {},
   "outputs": [],
   "source": [
    "# Your answer here"
   ]
  },
  {
   "cell_type": "markdown",
   "id": "25",
   "metadata": {},
   "source": [
    "**Optional: run the analysis for various flood depths, and examine wether affected population also changes by flood depth category.**"
   ]
  },
  {
   "cell_type": "code",
   "execution_count": null,
   "id": "26",
   "metadata": {},
   "outputs": [],
   "source": [
    "# Your answer here"
   ]
  },
  {
   "cell_type": "markdown",
   "id": "27",
   "metadata": {},
   "source": [
    "### Future economic damage"
   ]
  },
  {
   "cell_type": "markdown",
   "id": "28",
   "metadata": {},
   "source": [
    "**Now repeat the damage analysis done in the lesson, with the historical and future scenario.**\n",
    "\n",
    "**Similar to population example above, consider how you might scale future economic data (hint - link economic value to population). Use this scaled value to calculate future damages by extent of the flood.**\n",
    "\n",
    "**Optional: Construct a simple depth-damage realationship to calculate damages by depth. Now assume that some adaptation has taken place (i.e.: damage scales slower with flood depth in the future).**"
   ]
  },
  {
   "cell_type": "code",
   "execution_count": null,
   "id": "29",
   "metadata": {},
   "outputs": [],
   "source": [
    "# Your answer here."
   ]
  },
  {
   "cell_type": "markdown",
   "id": "30",
   "metadata": {},
   "source": [
    "### Assumptions\n",
    "1. What assumptions have made regarding population?\n",
    "2. What assumptions have we made regarding economics?\n",
    "3. What assumptions have we made regarding landuse?\n",
    "4. What assumptions have we made regarding flood defences?\n",
    "5. What might we do to combat these assumptions? How important is it that we highlight these to readers or policymakers?"
   ]
  },
  {
   "cell_type": "code",
   "execution_count": null,
   "id": "31",
   "metadata": {},
   "outputs": [],
   "source": [
    "# Your answer here (no code required)"
   ]
  }
 ],
 "metadata": {
  "kernelspec": {
   "display_name": "Python 3 (ipykernel)",
   "language": "python",
   "name": "python3"
  },
  "language_info": {
   "codemirror_mode": {
    "name": "ipython",
    "version": 3
   },
   "file_extension": ".py",
   "mimetype": "text/x-python",
   "name": "python",
   "nbconvert_exporter": "python",
   "pygments_lexer": "ipython3",
   "version": "3.12.8"
  }
 },
 "nbformat": 4,
 "nbformat_minor": 5
}
