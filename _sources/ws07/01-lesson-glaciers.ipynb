{
 "cells": [
  {
   "cell_type": "markdown",
   "id": "0",
   "metadata": {},
   "source": [
    "# Lesson 01: future glacier change"
   ]
  },
  {
   "cell_type": "markdown",
   "id": "1",
   "metadata": {},
   "source": [
    "Glaciers are among the most visible indicators of climate change. Their retreat is well documented across the world, but how do we actually quantify these changes? And how do we use model projections to assess future glacier evolution?\n",
    "\n",
    "This lesson has two parts:\n",
    "- Lesson 01 (this notebook): getting aquainted with glacier data.\n",
    "- Lesson 02 (the following notebook): getting aquainted with geospatial tools to give you more flexibility in your future projects.\n",
    "\n",
    "**By the end of this lesson, you will:**\n",
    "\n",
    "- Learn how to work with OGGM glacier projections in Python.\n",
    "- Understand how to analyze ensemble climate projections instead of relying on a single scenario.\n",
    "\n",
    "This session is methods-focused—it will equip you with the tools you need before diving into the bigger questions in the assignment: How much will glaciers shrink by 2100? What are the uncertainties? And what does this mean for water availability in glacier-fed regions?"
   ]
  },
  {
   "cell_type": "markdown",
   "id": "2",
   "metadata": {},
   "source": [
    "## Data and context"
   ]
  },
  {
   "cell_type": "markdown",
   "id": "3",
   "metadata": {},
   "source": [
    "We will use projections of glacier change computed with the OGGM model, developed in Bristol in collaboration with several other universities. OGGM is capable of simulating the evolution of all glaciers worldwide. In this workshop, we will not run the model ourselves but instead use pre-computed outputs for a wide range of possible future climate scenarios. These data are available as part of the [OGGM standard projections 1.6.1](https://github.com/OGGM/oggm-standard-projections-csv-files).\n",
    "\n",
    "For this workshop, I have prepared a subset of the data for the Rhone basin.\n",
    "\n",
    "To get started:\n",
    "\n",
    "1. Go to the [data download page](https://fabienmaussion.info/climate_risks/ready/03-download.html#glacier-data)  and download the tar file for basin number 6243 (Rhone).\n",
    "2. Create a new folder in your `data` folder (e.g., `glaciers`) and move the file there.\n",
    "3. Unpack the tar file—this will create a folder named `6243` containing several NetCDF files."
   ]
  },
  {
   "cell_type": "markdown",
   "id": "4",
   "metadata": {},
   "source": [
    "## Import the packages"
   ]
  },
  {
   "cell_type": "code",
   "execution_count": null,
   "id": "5",
   "metadata": {},
   "outputs": [],
   "source": [
    "import numpy as np\n",
    "import matplotlib.pyplot as plt\n",
    "import xarray as xr\n",
    "import pandas as pd"
   ]
  },
  {
   "cell_type": "markdown",
   "id": "6",
   "metadata": {},
   "source": [
    "OGGM output is provided in NetCDF files: this is why we will need xarray again!"
   ]
  },
  {
   "cell_type": "markdown",
   "id": "7",
   "metadata": {},
   "source": [
    "## OGGM output file "
   ]
  },
  {
   "cell_type": "markdown",
   "id": "8",
   "metadata": {},
   "source": [
    "Let's open one singe file to get started. This is the data for the Rhone basin, the OGGM model is forced with with W5E5 data for 2000-2020, and then with the BCC-CSM2-MR climate model under the scenario ssp126 until 2100. You can ignore the rest of the very long filename!"
   ]
  },
  {
   "cell_type": "code",
   "execution_count": null,
   "id": "9",
   "metadata": {},
   "outputs": [],
   "source": [
    "with xr.open_dataset('../data/glaciers/6243/basin_6243_run_hydro_w5e5_gcm_merged_endyr2100_CMIP6_bc_2000_2019_BCC-CSM2-MR_ssp126.nc') as ds:\n",
    "    ds = ds.load()  # This is a safer way to open files with xarray - we open the file, load the data, and close the netCDF file"
   ]
  },
  {
   "cell_type": "markdown",
   "id": "10",
   "metadata": {},
   "source": [
    "Let's explore the file together:"
   ]
  },
  {
   "cell_type": "code",
   "execution_count": null,
   "id": "11",
   "metadata": {},
   "outputs": [],
   "source": [
    "ds"
   ]
  },
  {
   "cell_type": "code",
   "execution_count": null,
   "id": "12",
   "metadata": {},
   "outputs": [],
   "source": [
    "ds.gcm"
   ]
  },
  {
   "cell_type": "markdown",
   "id": "13",
   "metadata": {},
   "source": [
    "The structure is quite different from what we've seen so far. First of all, there are more coordinates than we are used to. And no lats and lons! At least there is a time coordinate - this at least we are familiar with. \n",
    "\n",
    "**Q: There are four variables - can you name them? And give their dimensions and units?**"
   ]
  },
  {
   "cell_type": "code",
   "execution_count": null,
   "id": "14",
   "metadata": {},
   "outputs": [],
   "source": [
    "# Your answer here"
   ]
  },
  {
   "cell_type": "markdown",
   "id": "15",
   "metadata": {},
   "source": [
    "Let's remove the year 2000 - indeed, runoff cannot be computed for the final timestep of data (which consists only of January 2100):"
   ]
  },
  {
   "cell_type": "code",
   "execution_count": null,
   "id": "16",
   "metadata": {},
   "outputs": [],
   "source": [
    "ds = ds.sel(time=slice(2000, 2099))"
   ]
  },
  {
   "cell_type": "markdown",
   "id": "17",
   "metadata": {},
   "source": [
    "### Glacier per glacier simulations"
   ]
  },
  {
   "cell_type": "markdown",
   "id": "18",
   "metadata": {},
   "source": [
    "The `rgi_id` coordinate corresponds to the unique identifier for all glaciers in the basin - there are 1169 of them. \"RGI\" stands for [Randolph Glacier Inventory](https://www.glims.org/rgi_user_guide), the reference dataset for glacier outlines. Let's print these ids:"
   ]
  },
  {
   "cell_type": "code",
   "execution_count": null,
   "id": "19",
   "metadata": {},
   "outputs": [],
   "source": [
    "ds.rgi_id"
   ]
  },
  {
   "cell_type": "markdown",
   "id": "20",
   "metadata": {},
   "source": [
    "These are just a list of strings. Should we be interested in plotting the volume evolution of one glacier in particular, we could select it like this:"
   ]
  },
  {
   "cell_type": "code",
   "execution_count": null,
   "id": "21",
   "metadata": {},
   "outputs": [],
   "source": [
    "ds['volume'].sel(rgi_id='RGI60-11.03643').plot();  # This is the Mer de glace glacier near Chamonix"
   ]
  },
  {
   "cell_type": "markdown",
   "id": "22",
   "metadata": {},
   "source": [
    "**E: now add a new line to the plot for the Argentière glacier nearby (RGI60-11.03638). Then repeat but for the area and runoff variables.**"
   ]
  },
  {
   "cell_type": "code",
   "execution_count": null,
   "id": "23",
   "metadata": {},
   "outputs": [],
   "source": [
    "# Your answer here"
   ]
  },
  {
   "cell_type": "markdown",
   "id": "24",
   "metadata": {},
   "source": [
    "*If you are interested in looking at other glaciers, you can use the [GLIMS Glacier Viewer](https://www.glims.org/maps/glims). Here is a [tutorial](https://tutorials.oggm.org/stable/notebooks/tutorials/working_with_rgi.html#find-out-the-id-of-a-glacier) on how to find out the RGI6 ID.*"
   ]
  },
  {
   "cell_type": "markdown",
   "id": "25",
   "metadata": {},
   "source": [
    "OGGM simulates all the glaciers individually. But for many applications, we want to compute the total volume or runoff in a specific area (here the entire basin). Fortunately, it's very simple to compute this using xarray:"
   ]
  },
  {
   "cell_type": "code",
   "execution_count": null,
   "id": "26",
   "metadata": {},
   "outputs": [],
   "source": [
    "total_volume = ds.volume.sum(dim='rgi_id')\n",
    "total_volume.plot();"
   ]
  },
  {
   "cell_type": "markdown",
   "id": "27",
   "metadata": {},
   "source": [
    "**E: repeat the basin-wide plot for area and runoff.**"
   ]
  },
  {
   "cell_type": "code",
   "execution_count": null,
   "id": "28",
   "metadata": {},
   "outputs": [],
   "source": [
    "# Your answer here"
   ]
  },
  {
   "cell_type": "markdown",
   "id": "29",
   "metadata": {},
   "source": [
    "## Basin-wide volume and area"
   ]
  },
  {
   "cell_type": "markdown",
   "id": "30",
   "metadata": {},
   "source": [
    "The units of m3 are not very practical to use. Often, we will prefer two options to display the data:\n",
    "- km3 is often used instead of m3\n",
    "- instead of absolute change, we will represent % change with respect to a given year. This is the preferred option because we can't really relate to glacier volume numbers easily.\n",
    "\n",
    "**E: convert the `total_volume` to km3 and store the output in a new variable (`total_volume_km3`). Plot it.**"
   ]
  },
  {
   "cell_type": "code",
   "execution_count": null,
   "id": "31",
   "metadata": {},
   "outputs": [],
   "source": [
    "# Your answer here"
   ]
  },
  {
   "cell_type": "markdown",
   "id": "32",
   "metadata": {},
   "source": [
    "For relative changes, we first have to choose a reference year (for example 2020), and then divide the timeseries by that value. For good measure, we multiply by 100 to obtain percentages:"
   ]
  },
  {
   "cell_type": "code",
   "execution_count": null,
   "id": "33",
   "metadata": {},
   "outputs": [],
   "source": [
    "total_volume_change = (total_volume / total_volume.sel(time=2020)) * 100\n",
    "total_volume_change.plot();"
   ]
  },
  {
   "cell_type": "markdown",
   "id": "34",
   "metadata": {},
   "source": [
    "**Q: how much volume (in %) did the Rhone basin loose betwen 2000 and 2020? for this GCM and scenario, what is the remaining volume (in %) at the end of the century?**\n",
    "\n",
    "**E: now repeat this for basin-wide area.**"
   ]
  },
  {
   "cell_type": "code",
   "execution_count": null,
   "id": "35",
   "metadata": {},
   "outputs": [],
   "source": [
    "# Your answer here"
   ]
  },
  {
   "cell_type": "markdown",
   "id": "36",
   "metadata": {},
   "source": [
    "## Basin-wide annual runoff "
   ]
  },
  {
   "cell_type": "markdown",
   "id": "37",
   "metadata": {},
   "source": [
    "Let's compute the glacier runoff in gigatons per year:"
   ]
  },
  {
   "cell_type": "code",
   "execution_count": null,
   "id": "38",
   "metadata": {},
   "outputs": [],
   "source": [
    "total_runoff = ds.runoff.sum(dim='rgi_id') * 1e-12  # convert to gigatons\n",
    "total_runoff.plot();\n",
    "plt.ylabel('Annual runoff (Gt yr$^{-1}$)');"
   ]
  },
  {
   "cell_type": "markdown",
   "id": "39",
   "metadata": {},
   "source": [
    "Glacier runoff in OGGM (and in several other glacier models) is computed as the sum of **ice melt, snow melt, and liquid precipitation** over the glacier domain. The model follows a temperature-index approach to estimate melt rates. Precipitation and temperature data are provided by W5E5 or a climate model.\n",
    "\n",
    "In OGGM, runoff is calculated at each time step (monthly or annual) over a fixed spatial domain. This domain corresponds to the **total area covered by the glacier at the start of the simulation**. When the glacier retreats, OGGM still accounts for snowmelt and liquid precipitation over the newly ice-free area. This is known as a **\"fixed-gauge\" approach**, which simplifies comparisons by ensuring that runoff contributions from processes other than glacier melt remain unaffected by glacier retreat.\n",
    "\n",
    "We will explain glacier runoff in class, but in the meantime, if you're interested, check out this [OGGM tutorial](https://edu-notebooks.oggm.org/oggm-edu/glacier_water_resources.html) for additional context.\n",
    "\n",
    "**The plot above shows the decreasing glacier contribution to overall runoff, overlaid with interannual variability of melt and precipitation.** When studying runoff, it may be useful to compute running averages to smooth out short-term variability and highlight long-term trends:"
   ]
  },
  {
   "cell_type": "code",
   "execution_count": null,
   "id": "40",
   "metadata": {},
   "outputs": [],
   "source": [
    "total_runoff.plot(label='Annual runoff');\n",
    "total_runoff.rolling(time=21, center=True, min_periods=1).mean().plot(label='21-yr average');\n",
    "plt.ylabel('Annual runoff (Gt yr$^{-1}$)');"
   ]
  },
  {
   "cell_type": "markdown",
   "id": "41",
   "metadata": {},
   "source": [
    "## Optional: monthly runoff"
   ]
  },
  {
   "cell_type": "markdown",
   "id": "42",
   "metadata": {},
   "source": [
    "This will be added later for those interested - watch this space, or ask me about it!"
   ]
  },
  {
   "cell_type": "markdown",
   "id": "43",
   "metadata": {},
   "source": [
    "## The importance of considering ensembles"
   ]
  },
  {
   "cell_type": "markdown",
   "id": "44",
   "metadata": {},
   "source": [
    "<div class=\"alert alert-success\">\n",
    "    The following section is very relevant for any climate risk assessment—not just glaciers. These concepts apply to all climate impact analyses, so follow them carefully!\n",
    "</div>  \n",
    "\n",
    "The projection you see here represents **just one realization** of future climate conditions. However, climate models are inherently uncertain due to internal variability, model differences, and emission scenario assumptions. Relying on a single projection can be misleading, as it may not fully capture the range of possible futures.  \n",
    "\n",
    "To address this, we use **model ensembles**, such as the **CMIP6 ensemble**, which includes simulations from multiple climate models under different greenhouse gas scenarios. By analyzing the full ensemble, we can estimate the spread of possible outcomes, rather than relying on a single projection. \n",
    "\n",
    "We will now compute the full range of future glacier change in the Rhone basin for the SSP126 scenario, based on the full ensemble available to us. We will do this with two methods."
   ]
  },
  {
   "cell_type": "markdown",
   "id": "45",
   "metadata": {},
   "source": [
    "### Method 1: looping over all available files "
   ]
  },
  {
   "cell_type": "code",
   "execution_count": null,
   "id": "46",
   "metadata": {},
   "outputs": [],
   "source": [
    "import glob\n",
    "\n",
    "# The * indicates that we allow all kinds of patters here - i.e. all GCMs, but still ssp126\n",
    "file_pattern = \"../data/glaciers/6243/basin_6243_run_hydro_w5e5_gcm_merged_endyr2100_CMIP6_bc_2000_2019_*_ssp126.nc\"\n",
    "\n",
    "# Get all matching files\n",
    "files = glob.glob(file_pattern)\n",
    "\n",
    "# Print the list of files\n",
    "print(f'There are {len(files)} files:')\n",
    "for f in files:\n",
    "    print(f)"
   ]
  },
  {
   "cell_type": "markdown",
   "id": "47",
   "metadata": {},
   "source": [
    "Now, for each of them, we can extract the volume, and plot it:"
   ]
  },
  {
   "cell_type": "code",
   "execution_count": null,
   "id": "48",
   "metadata": {},
   "outputs": [],
   "source": [
    "for f in files:\n",
    "    # Extract the GCM name from the file name\n",
    "    gcm_name = f.split('2000_2019_')[1].split('_ssp')[0]\n",
    "\n",
    "    # Open and compute\n",
    "    with xr.open_dataset(f) as ds_tmp:\n",
    "        ds_tmp = ds_tmp.sel(time=slice(2000, 2099)).load()\n",
    "        tmp_volume = ds_tmp.volume.sum(dim='rgi_id') * 1e-9\n",
    "\n",
    "    # Plot\n",
    "    tmp_volume.plot(label=gcm_name);\n",
    "\n",
    "plt.legend(); plt.ylabel('Basin volume (km$^3$)'); plt.title('SSP126');"
   ]
  },
  {
   "cell_type": "markdown",
   "id": "49",
   "metadata": {},
   "source": [
    "**Q: interpret the plot above. Why is the data before 2020 always the same? What is the full range of outcomes for this scenario at the end of the century?**\n",
    "\n",
    "**E: Now, instead of computing the absolute volume, compute the relative volume change with respect to 2020, and repeat the plot.**"
   ]
  },
  {
   "cell_type": "code",
   "execution_count": null,
   "id": "50",
   "metadata": {},
   "outputs": [],
   "source": [
    "# Your answer here"
   ]
  },
  {
   "cell_type": "markdown",
   "id": "51",
   "metadata": {},
   "source": [
    "For a a cleaner workflow, we can store the output of each file in a dataframe instead of reading the files and plotting in the same loop. This is the recommended way for real-life workflows:"
   ]
  },
  {
   "cell_type": "code",
   "execution_count": null,
   "id": "52",
   "metadata": {},
   "outputs": [],
   "source": [
    "# Create the containers\n",
    "df_runoff = pd.DataFrame()\n",
    "df_volume = pd.DataFrame()\n",
    "\n",
    "for f in files:\n",
    "    # Extract the GCM name from the file name\n",
    "    gcm_name = f.split('2000_2019_')[1].split('_ssp')[0]\n",
    "\n",
    "    # Open and compute\n",
    "    with xr.open_dataset(f) as ds_tmp:\n",
    "        ds_tmp = ds_tmp.sel(time=slice(2000, 2099)).load()\n",
    "        tmp_volume = ds_tmp.volume.sum(dim='rgi_id') * 1e-9\n",
    "        tmp_runoff = ds_tmp.runoff.sum(dim='rgi_id') * 1e-12\n",
    "\n",
    "    # Store for later\n",
    "    df_runoff[gcm_name] = tmp_runoff.squeeze().to_series()\n",
    "    df_volume[gcm_name] = tmp_volume.squeeze().to_series()"
   ]
  },
  {
   "cell_type": "markdown",
   "id": "53",
   "metadata": {},
   "source": [
    "Now we have dataframes with with which we can redo the same plots:"
   ]
  },
  {
   "cell_type": "code",
   "execution_count": null,
   "id": "54",
   "metadata": {},
   "outputs": [],
   "source": [
    "df_volume.plot();"
   ]
  },
  {
   "cell_type": "code",
   "execution_count": null,
   "id": "55",
   "metadata": {},
   "outputs": [],
   "source": [
    "df_volume_relative = (df_volume / df_volume.loc[2020]) * 100\n",
    "df_volume_relative.plot();"
   ]
  },
  {
   "cell_type": "markdown",
   "id": "56",
   "metadata": {},
   "source": [
    "For runoff, we prefer to compute the relative runoff with respect to an average period instead of a single year, for example 2000-2019:"
   ]
  },
  {
   "cell_type": "code",
   "execution_count": null,
   "id": "57",
   "metadata": {},
   "outputs": [],
   "source": [
    "df_runoff_relative = (df_runoff / df_runoff.loc[2000:2019].mean()) * 100\n",
    "df_runoff_relative.plot();"
   ]
  },
  {
   "cell_type": "markdown",
   "id": "58",
   "metadata": {},
   "source": [
    "### Method 2: open_mf_dataset"
   ]
  },
  {
   "cell_type": "markdown",
   "id": "59",
   "metadata": {},
   "source": [
    "This will avoid for loops entirely and will be added later for those interested - watch this space or ask me about it!"
   ]
  },
  {
   "cell_type": "markdown",
   "id": "60",
   "metadata": {},
   "source": [
    "## From \"spaghetti\" plots to quantiles "
   ]
  },
  {
   "cell_type": "markdown",
   "id": "61",
   "metadata": {},
   "source": [
    "The plot above shows individual model projections of future glacier volume under the SSP126 scenario. Each line represents a different climate model from the CMIP6 ensemble. These are often called \"spaghetti plots\" because of their overlapping, tangled appearance. While these plots give a sense of the range of possible futures, they can be overwhelming and difficult to interpret. Individual models may show short-term variability that isn’t relevant for long-term trends, and focusing on specific runs may obscure the broader picture of uncertainty.\n",
    "\n",
    "Instead of plotting every model separately, we often summarize projections using **quantiles**—for example, showing the **median (50th percentile), and the spread between the 10th and 90th percentiles**.\n",
    "\n",
    "In the next step, we will compute and visualize these quantile-based ranges to gain a clearer understanding of future glacier runoff trends:"
   ]
  },
  {
   "cell_type": "code",
   "execution_count": null,
   "id": "62",
   "metadata": {},
   "outputs": [],
   "source": [
    "# We compute the quantiles along the ensemble\n",
    "q10 = df_volume_relative.quantile(0.1, axis=1)\n",
    "q50 = df_volume_relative.quantile(0.5, axis=1)\n",
    "q90 = df_volume_relative.quantile(0.9, axis=1)"
   ]
  },
  {
   "cell_type": "code",
   "execution_count": null,
   "id": "63",
   "metadata": {},
   "outputs": [],
   "source": [
    "# Extract the time index from the DataFrame\n",
    "time = df_volume_relative.index\n",
    "\n",
    "# Plot the filled quantile range\n",
    "plt.fill_between(time, q10, q90, color=\"C0\", alpha=0.5, label=\"10-90% range\")\n",
    "\n",
    "# Plot the median line\n",
    "plt.plot(time, q50, color=\"C0\", linewidth=2, label=\"Median\")\n",
    "\n",
    "# Labels and legend\n",
    "plt.ylabel(\"Basin volume (% 2020)\")\n",
    "plt.xlabel(\"Year\")\n",
    "plt.title(f\"SSP126 Glacier Volume Projections (N={len(df_volume.columns)})\")\n",
    "plt.legend();"
   ]
  },
  {
   "cell_type": "markdown",
   "id": "64",
   "metadata": {},
   "source": [
    "**E: now repeat the steps above with with the 0.05 and 0.95 quantiles instead - do you see much difference? Maybe you can even plot both the 10-90% and th 5-95% range on the same plot?**"
   ]
  },
  {
   "cell_type": "code",
   "execution_count": null,
   "id": "65",
   "metadata": {},
   "outputs": [],
   "source": [
    "# Your answer here"
   ]
  },
  {
   "cell_type": "markdown",
   "id": "66",
   "metadata": {},
   "source": [
    "**E: Finally, repeat the 10-90% plot plot with runoff instead of volume.**"
   ]
  },
  {
   "cell_type": "code",
   "execution_count": null,
   "id": "67",
   "metadata": {},
   "outputs": [],
   "source": [
    "# Your answer here"
   ]
  },
  {
   "cell_type": "markdown",
   "id": "68",
   "metadata": {},
   "source": [
    "## Conclusions & next steps: what does glacier change mean?"
   ]
  },
  {
   "cell_type": "markdown",
   "id": "69",
   "metadata": {},
   "source": [
    "In this lesson, we focused on the tools and methods needed to analyze glacier projections:\n",
    "\n",
    "- We opened and processed OGGM projection data.\n",
    "- We examined glacier-wide and basin-wide volume evolution over time.\n",
    "- We explored the importance of climate model ensembles and how to summarize them with quantiles instead of spaghetti plots.\n",
    "\n",
    "While today was all about data processing, the real question is: What do these projections tell us about future glacier change?\n",
    "\n",
    "This is where your assignment comes in! You will now take the tools from this lesson and apply them to real-world climate impact questions, such as:\n",
    "- How much glacier volume will be lost by 2100?\n",
    "- How do different climate scenarios (e.g., SSP126 vs. SSP585) affect glacier evolution?\n",
    "- What are the key uncertainties, and how do we interpret them?\n",
    "\n",
    "Glacier projections are more than just numbers—they are essential for understanding water security, hydrological risks, and long-term climate adaptation strategies. In the next step, you will use your new skills to analyze these impacts and draw meaningful conclusions."
   ]
  }
 ],
 "metadata": {
  "kernelspec": {
   "display_name": "Python 3 (ipykernel)",
   "language": "python",
   "name": "python3"
  },
  "language_info": {
   "codemirror_mode": {
    "name": "ipython",
    "version": 3
   },
   "file_extension": ".py",
   "mimetype": "text/x-python",
   "name": "python",
   "nbconvert_exporter": "python",
   "pygments_lexer": "ipython3",
   "version": "3.12.8"
  }
 },
 "nbformat": 4,
 "nbformat_minor": 5
}
