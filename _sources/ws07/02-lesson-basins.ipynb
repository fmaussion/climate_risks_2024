{
 "cells": [
  {
   "cell_type": "markdown",
   "id": "0",
   "metadata": {},
   "source": [
    "# Lesson 02: geospatial datasets"
   ]
  },
  {
   "cell_type": "markdown",
   "id": "1",
   "metadata": {},
   "source": [
    "In this lesson we will use a typical use case in glacier research as an opportunity to learn about geospatial joins: a very common operation in climate risk analysis, to align datasets with each other.\n",
    "\n",
    "The main question we are trying to address is: **how do we know which of the > 200'000 glaciers worldwide are located in the Rhone basin? And in the Indus basin? And in the other basins?**\n",
    "\n",
    "This question is similar to asking: which cities were affected by the drought, if I know the location of cities and the extent of the drought? And many similar questions."
   ]
  },
  {
   "cell_type": "markdown",
   "id": "2",
   "metadata": {},
   "source": [
    "Let's start by importing the packages. We have a new package this week!\n",
    "\n",
    "<div class=\"alert alert-warning\">\n",
    "    This workshop and the next require the installation of new python packages. This needs to be done once on the machine you are running this notebook. Find the instructions below.\n",
    "</div>\n",
    "\n",
    "**Installing additional packages in an existing environmnent is easy:** \n",
    "\n",
    "1. Start by opening a prompt and activating the `qcr` environment as usual: `conda activate qcr`\n",
    "2. Now, install the requested packages. Let's install a few at a time: type `mamba install --channel conda-forge cftime geopandas rioxarray` (or, if `mamba` is not available, `conda install --channel conda-forge cftime geopandas rioxarray`). Answer yes to the questions.\n",
    "3. That's it! you can start jupyter-lab as usual."
   ]
  },
  {
   "cell_type": "markdown",
   "id": "3",
   "metadata": {},
   "source": [
    "After having completed the steps above, this should run without error:"
   ]
  },
  {
   "cell_type": "code",
   "execution_count": null,
   "id": "4",
   "metadata": {},
   "outputs": [],
   "source": [
    "import numpy as np\n",
    "import matplotlib.pyplot as plt\n",
    "import xarray as xr\n",
    "import pandas as pd\n",
    "from cartopy import crs as ccrs\n",
    "import geopandas as gpd  # This is new!\n",
    "import shapely.geometry as shpg  # This is new as well"
   ]
  },
  {
   "cell_type": "markdown",
   "id": "5",
   "metadata": {},
   "source": [
    "We introduce two new packages:\n",
    "\n",
    "- [**GeoPandas**](https://geopandas.org/en/stable/) extends Pandas to handle spatial data, making it easier to work with geographic  datasets such as river basins, and much, much more.\n",
    "- [**Shapely**](https://shapely.readthedocs.io/en/stable/) provides geometric objects and operations, which geopandas uses under the hood to manipulate spatial features. We'll cross that bridge when it comes."
   ]
  },
  {
   "cell_type": "markdown",
   "id": "6",
   "metadata": {},
   "source": [
    "## Glacier locations and other global statistics"
   ]
  },
  {
   "cell_type": "markdown",
   "id": "7",
   "metadata": {},
   "source": [
    "Head to the [data download page](https://fabienmaussion.info/climate_risks/ready/03-download.html#glacier-data) and download the two files:\n",
    "- `glacier_basins.zip`: I put this file in a new `glaciers` folder I created in the `data` folder, and extracted it (the zip extraction is important!)\n",
    "- `rgi60_stats.csv`: I also put this file in the `glaciers` folder\n",
    "\n",
    "The `rgi60_stats.csv` is a csv file - we know how to deal with these files now!"
   ]
  },
  {
   "cell_type": "code",
   "execution_count": null,
   "id": "8",
   "metadata": {},
   "outputs": [],
   "source": [
    "rgi_df = pd.read_csv('../data/glaciers/rgi60_stats.csv', index_col=0)"
   ]
  },
  {
   "cell_type": "markdown",
   "id": "9",
   "metadata": {},
   "source": [
    "Explore the dataframe, its structure, length, etc."
   ]
  },
  {
   "cell_type": "code",
   "execution_count": null,
   "id": "10",
   "metadata": {},
   "outputs": [],
   "source": [
    "# Your answer here"
   ]
  },
  {
   "cell_type": "markdown",
   "id": "11",
   "metadata": {},
   "source": [
    "This table was generated based on the [Randolph Glacier Inventory](https://www.glims.org/RGI/) version 6. \n",
    "\n",
    "Here are a few explanations for the most relevant columns:\n",
    "\n",
    "- **RGIId**: The unique identifier for each glacier in the Randolph Glacier Inventory (RGI).  \n",
    "- **BgnDate**: The date of the satellite image used to delineate the glacier, in YYYYMMDD format.  \n",
    "- **CenLon, CenLat**: The central longitude and latitude of the glacier, representing its approximate centroid.  \n",
    "- **O1Region, O2Region**: The primary and secondary region codes according to the RGI classification. These help categorize glaciers by geographic location.  \n",
    "- **Area**: The glacier’s total surface area in square kilometers (km²).  \n",
    "- **Zmin, Zmax, Zmed**: The minimum, maximum, and median elevation of the glacier in meters above sea level (m a.s.l.).  \n",
    "- **Slope**: The average surface slope of the glacier, measured in degrees.  \n",
    "- **Aspect**: The dominant aspect (orientation) of the glacier, measured in degrees (0° = North, 90° = East, 180° = South, 270° = West).  \n",
    "- **Name**: The given name of the glacier, if available. Many glaciers remain unnamed and are recorded as `NaN`.\n",
    "\n",
    "This dataset provides a static snapshot of glaciers at the time of their delineation, meaning it does not track their changes over time. The RGI's primary goal is to provide glacier outlines - to reduce the dataset I scrapped the outlines out of the file and only provide the outlines attributes.\n",
    "\n",
    "**Q: Here are a few questions to get you started:**\n",
    "- **how many glaciers are there in the RGI?**\n",
    "- **what is their total area?**\n",
    "- **what is the maximum glacier elevation?**\n",
    "- **can you plot a histogram of the `Aspect` of the glaciers? What is the dominant direction of glaciers? Was it predictable?**\n",
    "- **optional: select all glaciers in the northern hemisphere, and repeat the histogram**\n",
    "- **optional: now group the glaciers per `O1Region` category (hint: `groupby()`), and compute the total area per RGI region.**"
   ]
  },
  {
   "cell_type": "code",
   "execution_count": null,
   "id": "12",
   "metadata": {},
   "outputs": [],
   "source": [
    "# Your answer here"
   ]
  },
  {
   "cell_type": "markdown",
   "id": "13",
   "metadata": {},
   "source": [
    "The RGI glaciers are organised in main regions as shown on the map below. Many publications will refer to these regions, but you may notice that they are not very useful from an adaptation standpoint. Communities and water resource managers will be more likely to be interested in river basins. It's the motivation behind this lesson.\n",
    "\n",
    "<img src=\"https://raw.githubusercontent.com/GLIMS-RGI/rgi_user_guide/main/docs/img/global_stats/global_map.jpeg\" alt=\"Global Glacier Map\" width=\"700\">"
   ]
  },
  {
   "cell_type": "markdown",
   "id": "14",
   "metadata": {},
   "source": [
    "There is a lot more we could explore with this dataset, but we have to get going with more pressing matters.\n",
    "\n",
    "For our main goal (attributing glaciers to a given basin), the `CenLon` and `CenLat` columns might be useful. I can start by plotting the glacier locations on a scatter plot, but this is not really \"geospatial\" yet:"
   ]
  },
  {
   "cell_type": "code",
   "execution_count": null,
   "id": "15",
   "metadata": {},
   "outputs": [],
   "source": [
    "rgi_df.plot.scatter(x='CenLon', y='CenLat', s=0.1);"
   ]
  },
  {
   "cell_type": "markdown",
   "id": "16",
   "metadata": {},
   "source": [
    "We'll get back to glacier locations once we are aquainted with the river basins file."
   ]
  },
  {
   "cell_type": "markdown",
   "id": "17",
   "metadata": {},
   "source": [
    "## River basins shapefile"
   ]
  },
  {
   "cell_type": "markdown",
   "id": "18",
   "metadata": {},
   "source": [
    "Let's open the second dataset you downloaded. You should have a `glacier_basins` folder containing five files. In a way, these are all parts of the same dataset, which is referenced by the main file: **`glacier_basins.shp`**.\n",
    "\n",
    "A **shapefile** is a widely used format for storing vector data in Geographic Information Systems (GIS). Shapefiles store **vector data**, which represents geographic features using **Points** (e.g., glacier centroids), **Lines** (e.g., river networks), **Polygons** (e.g., glacier outlines and basins).  \n",
    "\n",
    "Unlike raster data (grids of pixels), vector data allows for precise geographic representation and rich attribute information, and it is structured very differently.\n",
    "\n",
    "You can now load the `glacier_basins.shp` file using GeoPandas to explore its content:"
   ]
  },
  {
   "cell_type": "code",
   "execution_count": null,
   "id": "19",
   "metadata": {},
   "outputs": [],
   "source": [
    "gdf = gpd.read_file('../data/glaciers/glacier_basins/glacier_basins.shp')  "
   ]
  },
  {
   "cell_type": "markdown",
   "id": "20",
   "metadata": {},
   "source": [
    "`gdf` is called a \"geodataframe\". You'll find it very convenient! It ressembles a very standard pandas dataframe, except for one column (`geometry`):"
   ]
  },
  {
   "cell_type": "code",
   "execution_count": null,
   "id": "21",
   "metadata": {},
   "outputs": [],
   "source": [
    "gdf"
   ]
  },
  {
   "cell_type": "markdown",
   "id": "22",
   "metadata": {},
   "source": [
    "Operations that work on a dataframe also work on a geodataframe. For example, we can count the number of basins per continent:"
   ]
  },
  {
   "cell_type": "code",
   "execution_count": null,
   "id": "23",
   "metadata": {},
   "outputs": [],
   "source": [
    "gdf.groupby('CONTINENT').count()[['geometry']]"
   ]
  },
  {
   "cell_type": "markdown",
   "id": "24",
   "metadata": {},
   "source": [
    "**Q: Here are a few questions to get you started:**\n",
    "- **how many basins are there in the file?**\n",
    "- **what is their total area?** (*hint: `AREA_CALC`, in km2*)\n",
    "- **can you print the list of all their names?**"
   ]
  },
  {
   "cell_type": "code",
   "execution_count": null,
   "id": "25",
   "metadata": {},
   "outputs": [],
   "source": [
    "# Your answer here"
   ]
  },
  {
   "cell_type": "markdown",
   "id": "26",
   "metadata": {},
   "source": [
    "**Note that this dataset contains a subset of all of the word basins. These are all of the world’s large river basins (> 3000 km²) with considerable glacier cover (> 30 km²).** The original dataset (not cropped for glaciers) can be found at the [Global Runoff Data Centre - Major River Basins](https://grdc.bafg.de/products/basin_layers/major_rivers/).\n",
    "\n",
    "Using standard pandas methods, we can also compute the total area of glaciers contained in these basins:"
   ]
  },
  {
   "cell_type": "code",
   "execution_count": null,
   "id": "27",
   "metadata": {},
   "outputs": [],
   "source": [
    "gdf['RGI_AREA'].sum()"
   ]
  },
  {
   "cell_type": "markdown",
   "id": "28",
   "metadata": {},
   "source": [
    "*Note: This is much less than the total area of glaciers worldwide you compute above, because many glaciers in the polar regions do not have an assigned basin.*\n",
    "\n",
    "We can also compute a useful new statistic: the % of the basin which is covered by glaciers:"
   ]
  },
  {
   "cell_type": "code",
   "execution_count": null,
   "id": "29",
   "metadata": {},
   "outputs": [],
   "source": [
    "gdf['glacier_cover'] = (gdf['RGI_AREA'] / gdf['AREA_CALC']) * 100"
   ]
  },
  {
   "cell_type": "markdown",
   "id": "30",
   "metadata": {},
   "source": [
    "**E: plot a histogram of the `glacier_cover` data. What is the median glacier cover? And what is the basin with the highest percentage of glacier cover?**"
   ]
  },
  {
   "cell_type": "code",
   "execution_count": null,
   "id": "31",
   "metadata": {},
   "outputs": [],
   "source": [
    "# Your answer here"
   ]
  },
  {
   "cell_type": "markdown",
   "id": "32",
   "metadata": {},
   "source": [
    "## Plotting with geopandas"
   ]
  },
  {
   "cell_type": "markdown",
   "id": "33",
   "metadata": {},
   "source": [
    "So far, this all looked very similar to \"standard\" pandas. So, what's the deal with Geopandas? It offers many services, but the main ones are:\n",
    "\n",
    "1. Plotting vector data from the `geometry` column (this section)\n",
    "2. Geospatial operations on the `geometry` column (next section)\n",
    "\n",
    "Let's ask for the simplest plot of all:"
   ]
  },
  {
   "cell_type": "code",
   "execution_count": null,
   "id": "34",
   "metadata": {},
   "outputs": [],
   "source": [
    "gdf.plot(ec='k');"
   ]
  },
  {
   "cell_type": "markdown",
   "id": "35",
   "metadata": {},
   "source": [
    "The basin shapes are provided in the WGS84 (standard lon-lat) projection. Geopandas also comes with handy tools to convert this to any other projection if needed:"
   ]
  },
  {
   "cell_type": "code",
   "execution_count": null,
   "id": "36",
   "metadata": {},
   "outputs": [],
   "source": [
    "gdf.to_crs(epsg=\"3857\").plot(ec='k');"
   ]
  },
  {
   "cell_type": "markdown",
   "id": "37",
   "metadata": {},
   "source": [
    "Geopandas also comes with a lot of handy ways to plot the data, but we'll learn only one today: assigning colors to attributes of the geometries. Here coloring by basin area:"
   ]
  },
  {
   "cell_type": "code",
   "execution_count": null,
   "id": "38",
   "metadata": {},
   "outputs": [],
   "source": [
    "f, ax = plt.subplots(figsize=(12, 4))\n",
    "gdf.plot(ax=ax, column=\"AREA_CALC\", cmap=\"OrRd\", ec='k', legend=True);\n",
    "plt.title('Basin area');"
   ]
  },
  {
   "cell_type": "markdown",
   "id": "39",
   "metadata": {},
   "source": [
    "**Exercise: now plot the basins again but the color indicating glacier area, not basin area. Then continue with the percentage glacier area per basin (`glacier_cover`).**"
   ]
  },
  {
   "cell_type": "code",
   "execution_count": null,
   "id": "40",
   "metadata": {},
   "outputs": [],
   "source": [
    "# Your answer here"
   ]
  },
  {
   "cell_type": "markdown",
   "id": "41",
   "metadata": {},
   "source": [
    "One can also plot categorical data! See by yourself:"
   ]
  },
  {
   "cell_type": "code",
   "execution_count": null,
   "id": "42",
   "metadata": {},
   "outputs": [],
   "source": [
    "f, ax = plt.subplots(figsize=(12, 4))\n",
    "gdf.plot(ax=ax, column=\"OCEAN\", categorical=True, cmap=\"Pastel1\", ec='k', \n",
    "         legend=True, legend_kwds={\"loc\": \"lower right\"});\n",
    "plt.title('In which ocean does each river flow?'); "
   ]
  },
  {
   "cell_type": "markdown",
   "id": "43",
   "metadata": {},
   "source": [
    "And, finally, one can plot geopandas dataframe on any map projection with cartopy, very much like raster data in the first two workshops:"
   ]
  },
  {
   "cell_type": "code",
   "execution_count": null,
   "id": "44",
   "metadata": {},
   "outputs": [],
   "source": [
    "# Create figure with custom figsize and projection\n",
    "fig, ax = plt.subplots(figsize=(12, 4), subplot_kw={\"projection\": ccrs.Robinson()})\n",
    "gdf.plot(ax=ax, column=\"OCEAN\", categorical=True, cmap=\"Pastel1\", ec='k', \n",
    "         legend=True, legend_kwds={\"loc\": \"lower right\"},\n",
    "         transform=ccrs.PlateCarree());\n",
    "plt.title('In which ocean does each river flow?'); \n",
    "ax.coastlines(color='grey');  # Add coastlines\n",
    "ax.set_global();  # Global plot"
   ]
  },
  {
   "cell_type": "markdown",
   "id": "45",
   "metadata": {},
   "source": [
    "**In the plot above, what does the `---` basin represent? Is there a name for such basins?**"
   ]
  },
  {
   "cell_type": "code",
   "execution_count": null,
   "id": "46",
   "metadata": {},
   "outputs": [],
   "source": [
    "# Your answer here"
   ]
  },
  {
   "cell_type": "markdown",
   "id": "47",
   "metadata": {},
   "source": [
    "## Finding out in which basin each glacier belongs"
   ]
  },
  {
   "cell_type": "markdown",
   "id": "48",
   "metadata": {},
   "source": [
    "So far, we have a dataset of **glaciers** (`rgi_df`) with their geographic coordinates (`CenLon`, `CenLat`), but no spatial information about which river basin they belong to. On the other hand, we have a **GeoDataFrame** (`gdf`) that contains the river basin boundaries as polygons.\n",
    "\n",
    "To assign each glacier to a basin, we will:\n",
    "1. **Convert glacier locations into geometries**: We will transform `CenLon` and `CenLat` into Shapely Point objects, creating a GeoDataFrame from `rgi_df`.\n",
    "2. **Use a spatial join**: We will use `geopandas.sjoin()` to determine which basin each glacier falls into.\n",
    "3. **Store the basin information**: The result will be a new column in `rgi_df` that tells us which basin each glacier belongs to.\n",
    "\n",
    "This is a common GIS task in climate impact studies, as linking a dataset to another is a very important step for most impact or vulnerability assessment. Let's do it!"
   ]
  },
  {
   "cell_type": "code",
   "execution_count": null,
   "id": "49",
   "metadata": {},
   "outputs": [],
   "source": [
    "# Step 1: Convert RGI dataframe into a GeoDataFrame with Point geometries\n",
    "rgi_gdf = gpd.GeoDataFrame(\n",
    "    rgi_df,\n",
    "    geometry=gpd.points_from_xy(rgi_df['CenLon'], rgi_df['CenLat']),\n",
    "    crs=\"EPSG:4326\"  # This is WGS84 - the same coordinate reference system as the basins\n",
    ")\n",
    "\n",
    "# Step 2: Perform a spatial join (each glacier gets assigned a basin)\n",
    "rgi_gdf = gpd.sjoin(rgi_gdf, gdf, how=\"left\", predicate=\"within\")\n",
    "\n",
    "# Step 3: Store results back in the original dataframe\n",
    "rgi_df['MRBID'] = rgi_gdf['MRBID']"
   ]
  },
  {
   "cell_type": "markdown",
   "id": "50",
   "metadata": {},
   "source": [
    "That's it! Let's see what we've got:"
   ]
  },
  {
   "cell_type": "code",
   "execution_count": null,
   "id": "51",
   "metadata": {},
   "outputs": [],
   "source": [
    "rgi_df"
   ]
  },
  {
   "cell_type": "markdown",
   "id": "52",
   "metadata": {},
   "source": [
    "We've added a new column (`MRBID`) which assigns a glacier to each basin. Or does it?\n",
    "\n",
    "**Q: answer the following questions:**\n",
    "-  **how many glaciers are assigned to the basin 6243 (Rhone)? Does it match what you computed in lesson 01?**\n",
    "-  **what is the area of all glaciers in the Rhone?**\n",
    "-  **how many glaciers are not attributed to any basin? What is the area of all glaciers with and without a basin?**\n",
    "-  **grouping by basin id: what is the basin with the highest avereage median elevation? and the lowest?**"
   ]
  },
  {
   "cell_type": "code",
   "execution_count": null,
   "id": "53",
   "metadata": {},
   "outputs": [],
   "source": [
    "# Your answer here"
   ]
  },
  {
   "cell_type": "markdown",
   "id": "54",
   "metadata": {},
   "source": [
    "## Conclusions & next steps: unlocking more detailed spatial analyses"
   ]
  },
  {
   "cell_type": "markdown",
   "id": "55",
   "metadata": {},
   "source": [
    "In this lesson, we expanded our geospatial toolkit to move beyond predefined large basins. Instead of relying on fixed datasets, you now have the ability to:\n",
    "- Select and analyze specific hydrological basins based on your own criteria.\n",
    "- Use geospatial tools to link climate impacts (such as glacier runoff, precipitation, or extreme events) to specific catchments.\n",
    "- Define study areas more flexibly, allowing for more detailed and localized analysis.\n",
    "\n",
    "This unlocks new possibilities for climate impact assessments. While large-scale basins are useful for broad regional trends, many of the most important hydrological changes occur in smaller catchments where local conditions—such as runoff sources, land cover, or topography—play a major role.\n",
    "\n",
    "With these tools, you can now:\n",
    "\n",
    "- Study individual tributaries and sub-basins, rather than relying only on large drainage areas.\n",
    "- Analyze regions where small-scale hydrological changes matter, such as flood-prone areas, water-stressed basins, or high-elevation catchments.\n",
    "- Investigate extreme events, like glacial lake outburst floods, heavy precipitation events, or seasonal water availability shifts in a spatially explicit way.\n",
    "\n",
    "As you move forward, think about how the spatial scale of your analysis affects your conclusions—some insights may be lost in large-scale averages but become clear when looking at localized basin-scale changes."
   ]
  }
 ],
 "metadata": {
  "kernelspec": {
   "display_name": "Python 3 (ipykernel)",
   "language": "python",
   "name": "python3"
  },
  "language_info": {
   "codemirror_mode": {
    "name": "ipython",
    "version": 3
   },
   "file_extension": ".py",
   "mimetype": "text/x-python",
   "name": "python",
   "nbconvert_exporter": "python",
   "pygments_lexer": "ipython3",
   "version": "3.12.8"
  }
 },
 "nbformat": 4,
 "nbformat_minor": 5
}
