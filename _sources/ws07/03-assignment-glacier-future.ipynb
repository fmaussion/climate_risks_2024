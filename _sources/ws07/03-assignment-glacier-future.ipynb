{
 "cells": [
  {
   "cell_type": "markdown",
   "id": "0",
   "metadata": {},
   "source": [
    "# Assignment: future glacier change"
   ]
  },
  {
   "cell_type": "markdown",
   "id": "1",
   "metadata": {},
   "source": [
    "Not ready! 😱\n",
    "\n",
    "In the meantime, explore [this interactive app](https://edu.oggm.org/en/latest/glacier_runoff.html).\n",
    "\n",
    "<a href=\"https://edu.oggm.org/en/latest/glacier_runoff.html\" target=\"_blank\">\n",
    "    <img src=\"https://edu.oggm.org/en/latest/_images/runoff_app_thumbnail.jpg\" alt=\"Basin App\" width=\"700\">\n",
    "</a>"
   ]
  }
 ],
 "metadata": {
  "kernelspec": {
   "display_name": "Python 3 (ipykernel)",
   "language": "python",
   "name": "python3"
  },
  "language_info": {
   "codemirror_mode": {
    "name": "ipython",
    "version": 3
   },
   "file_extension": ".py",
   "mimetype": "text/x-python",
   "name": "python",
   "nbconvert_exporter": "python",
   "pygments_lexer": "ipython3",
   "version": "3.12.8"
  }
 },
 "nbformat": 4,
 "nbformat_minor": 5
}
