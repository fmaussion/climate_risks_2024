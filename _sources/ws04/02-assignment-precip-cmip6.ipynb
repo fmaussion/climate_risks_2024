{
 "cells": [
  {
   "cell_type": "markdown",
   "metadata": {},
   "source": [
    "# Assignment: CMIP6 temperature projections"
   ]
  },
  {
   "cell_type": "code",
   "execution_count": null,
   "metadata": {},
   "outputs": [],
   "source": [
    "# Import the tools we are going to need today:\n",
    "import matplotlib.pyplot as plt  # plotting library\n",
    "import numpy as np  # numerical library\n",
    "import xarray as xr  # netCDF library\n",
    "import cartopy  # Map projections libary\n",
    "import cartopy.crs as ccrs  # Projections list\n",
    "# Some defaults:\n",
    "plt.rcParams['figure.figsize'] = (12, 5)  # Default plot size"
   ]
  },
  {
   "cell_type": "markdown",
   "metadata": {},
   "source": [
    "## Global CMIP6 data"
   ]
  },
  {
   "cell_type": "markdown",
   "metadata": {},
   "source": [
    "Visit the [data download page for CMIP6 data](https://fabienmaussion.info/climate_risks/ready/03-download.html#cmip6-data). \n",
    "\n",
    "Download the \"ultra low resolution\" ERA5 temperature data from the link. This is the same data as you've used so far, but at an even lower resolution of 2°. I've coarsened the data even more to reduce the volume of climate projection data you'll have to manipulate for this assignment.\n",
    "\n",
    "Now download **temperature** data from the climate model of your choice (it doesn't matter which one) and for the scenarios **ssp126** and **ssp585**. I have prepared these data to make your life a bit easier. Most notably, I have resampled the data to be on the same grid as the ultra low resolution (2°) ERA5 data, which makes working with the data considerably easier. Normally, [each ESM has their own resolution](https://cluster.klima.uni-bremen.de/~oggm/cmip6/all_gcm_table.html), ranging from 0.7° (for EC-Earth3) to 2.50° (for IPSL-CM6A-LR)."
   ]
  },
  {
   "cell_type": "markdown",
   "metadata": {},
   "source": [
    "### Historical reference data: ERA5\n",
    "\n",
    "**Let me open the 2° ERA5 data for you and extract the 2m temperature data in °C. I'll also select the 1979, 2015 period, and compute the annual averages as well as the time period average of this data. This should be familiar to you:**"
   ]
  },
  {
   "cell_type": "code",
   "execution_count": null,
   "metadata": {},
   "outputs": [],
   "source": [
    "# Open the file\n",
    "ds_era = xr.open_dataset('../data/ERA5_UltraLowRes_Monthly_t2m.nc')\n",
    "\n",
    "# Select temperature for the given time period and convert to °C\n",
    "t2m_era = ds_era.t2m.sel(time=slice('1979', '2015')) - 273.15\n",
    "\n",
    "# Compute the annual average\n",
    "t2m_era_annual_avg = t2m_era.resample(time='YS').mean()\n",
    "\n",
    "# Compute the period average\n",
    "t2m_era_avg = t2m_era.mean(dim='time')"
   ]
  },
  {
   "cell_type": "markdown",
   "metadata": {},
   "source": [
    "**Now let me also compute the globally averaged, annual mean temperature time series for you. Here again, this should hopefully be familiar to you as well:**"
   ]
  },
  {
   "cell_type": "code",
   "execution_count": null,
   "metadata": {},
   "outputs": [],
   "source": [
    "# Meridional weights\n",
    "weight = np.cos(np.deg2rad(t2m_era.latitude))\n",
    "weight = weight / weight.sum()\n",
    "\n",
    "# Meridionally weighted zonal mean - we did this before, but here I'm squeezing it into one single line\n",
    "t2m_era_ats = (t2m_era_annual_avg.mean(dim='longitude') * weight).sum(dim='latitude')"
   ]
  },
  {
   "cell_type": "markdown",
   "metadata": {},
   "source": [
    "**Now make sure you understand what each of the variable above represents. This should be a repetition of what we've learned in the lessons so far, but it's always good to make sure we are on the same page. In the markdown cell below, explain in your own words:**"
   ]
  },
  {
   "cell_type": "markdown",
   "metadata": {},
   "source": [
    "- `t2m_era` is ... Its dimensions are ...\n",
    "- `t2m_era_annual_avg` is ... Its dimensions are ...\n",
    "- `t2m_era_avg` is ... Its dimensions are ...\n",
    "- `t2m_era_ats` is ... Its dimensions are ..."
   ]
  },
  {
   "cell_type": "code",
   "execution_count": null,
   "metadata": {},
   "outputs": [],
   "source": [
    "# Explore the variables here to be sure"
   ]
  },
  {
   "cell_type": "markdown",
   "metadata": {},
   "source": [
    "### Historical CMIP6 data"
   ]
  },
  {
   "cell_type": "markdown",
   "metadata": {},
   "source": [
    "If any of what we've done above is too complex for you, you may pause, and go back to the previous lessons. You may also use the time in class to ask your questions!\n",
    "\n",
    "Now, if your comfortable going forward, let's go!\n",
    "\n",
    "### Averages and local and global ESM bias\n",
    "\n",
    "**Now open the ssp126 ESM file you downloaded. Give it a recognizable name. Explore the file's content.**"
   ]
  },
  {
   "cell_type": "code",
   "execution_count": null,
   "metadata": {},
   "outputs": [],
   "source": [
    "# Open the file"
   ]
  },
  {
   "cell_type": "markdown",
   "metadata": {},
   "source": [
    "**Note that the temperature variable name has changed. Other than that, the file content should be familiar to you?**\n",
    "\n",
    "**Now repeat the steps above, but with this ESM file, and renaming the variables accordingly. I suggest replacing `era` with `ssp126` for simplicity. Your goal should be to compute the following variables in a similar fashion as you did for ERA5:**\n",
    "- `t2m_ssp126`\n",
    "- `t2m_ssp126_annual_avg`\n",
    "- `t2m_ssp126_avg`\n",
    "- `t2m_ssp126_ats`"
   ]
  },
  {
   "cell_type": "code",
   "execution_count": null,
   "metadata": {},
   "outputs": [],
   "source": [
    "# Your answer here"
   ]
  },
  {
   "cell_type": "markdown",
   "metadata": {},
   "source": [
    "Great! \n",
    "\n",
    "**Now let's get started with the interesting stuff. Start by computing the period average of the global average temperature for each dataset. This should be one single, scalar value: the global temperature according to ERA5, and according to the ESM you downloaded. Compare the two values.**"
   ]
  },
  {
   "cell_type": "code",
   "execution_count": null,
   "metadata": {},
   "outputs": [],
   "source": [
    "# Your answer here"
   ]
  },
  {
   "cell_type": "markdown",
   "metadata": {},
   "source": [
    "**Now plot a world map of the period average temperature (`t2m_era_avg` and `t2m_ssp126_avg`) using the same colorscale values. Plot a third map: the difference between the two.**"
   ]
  },
  {
   "cell_type": "code",
   "execution_count": null,
   "metadata": {},
   "outputs": [],
   "source": [
    "# Your answer here"
   ]
  },
  {
   "cell_type": "markdown",
   "metadata": {},
   "source": [
    "The map \"ESM minus ERA5\" is called the \"average temperature bias\" of the ESM you chose. Look it up online if you don't know what I am talking about when I mention \"bias\".\n",
    "\n",
    "**Now write down your answer to the following questions**:\n",
    "- **If the climate model would be perfect, would we expect any difference between ERA5 and the climate model? Why?**\n",
    "- **Are the differences always positive, or always negative? Why?**\n",
    "- **Where are the largest differences to be seen, i.e. in which regions. Can you detect a pattern, or at least formulate hypotheses as to why these regions show such differences?**"
   ]
  },
  {
   "cell_type": "code",
   "execution_count": null,
   "metadata": {},
   "outputs": [],
   "source": [
    "# Your answer here"
   ]
  },
  {
   "cell_type": "markdown",
   "metadata": {},
   "source": [
    "#### Interannual variability"
   ]
  },
  {
   "cell_type": "markdown",
   "metadata": {},
   "source": [
    "**Now plot the two annual timeseries together on the same line plot (`t2m_era_ats` and `t2m_ssp126_ats`). Make the plot nice: add a legend, a y-axis label, and a title.**"
   ]
  },
  {
   "cell_type": "code",
   "execution_count": null,
   "metadata": {},
   "outputs": [],
   "source": [
    "# Your answer here"
   ]
  },
  {
   "cell_type": "markdown",
   "metadata": {},
   "source": [
    "**Interpret what you see, and try to answer the following questions:**\n",
    "- **If the ESM you downloaded has a bias. Is this bias \"systematic\" (i.e. similar over the same time period), or random?**\n",
    "- **Do the ESM and ERA5 display similar trends (qualitatively)?**\n",
    "- **If any given year is warmer/colder than usual in the ERA5 timeseries, is it also the case in the ESM? Or, in other worlds, are the two timeseries correlated?**\n",
    "- **Do we expect the two timeseries to correlate, or not? Why?**"
   ]
  },
  {
   "cell_type": "code",
   "execution_count": null,
   "metadata": {},
   "outputs": [],
   "source": [
    "# Your answer here"
   ]
  },
  {
   "cell_type": "markdown",
   "metadata": {},
   "source": [
    "The (likely) bias between a given ESM realisation and \"observations\" (here, ERA5) is a very well documented problem in climate science. The existence of this bias means that scientist have developped specific strategies to deal with this problem. One strategy is called *bias correction*, and there exists entire textbooks on the subject. We will get to this later.\n",
    "\n",
    "Another strategy is to assume that despite having a bias, the ESM can still be considered skilfull at representing *slow* changes in the climate system. I.e., even if the average climate is a bit off at any given time, the difference between two periods (i.e. the climate change signal) might still be skilfull and provide useful information.\n",
    "\n",
    "**Now let's test this hypothesis. For each timeseries, (`t2m_era_ats` and `t2m_ssp126_ats`), compute the average of the first decade, and subtract it from the timeseries. Create two new timeseries from this operation, called `delta_t2m_era_ats` and `delta_t2m_ssp126_ats`. Plot them.**\n",
    "\n",
    "*Tip: a good way to check if you've done this correctly is to check your plot: the first years should vary around the 0°C line.*"
   ]
  },
  {
   "cell_type": "code",
   "execution_count": null,
   "metadata": {},
   "outputs": [],
   "source": [
    "# Your answer here"
   ]
  },
  {
   "cell_type": "markdown",
   "metadata": {},
   "source": [
    "**Now (qualitatively) test the hypothesis that your ESM is skillful at representing the global warming trend (or not). Discuss.**"
   ]
  },
  {
   "cell_type": "code",
   "execution_count": null,
   "metadata": {},
   "outputs": [],
   "source": [
    "# Your answer here"
   ]
  },
  {
   "cell_type": "markdown",
   "metadata": {},
   "source": [
    "### CMIP6 projections"
   ]
  },
  {
   "cell_type": "markdown",
   "metadata": {},
   "source": [
    "Now that we've tested the past, let's have a first look at the global projections. We can put ERA5 aside, and focus on the two scenarios we've downloaded: ssp126 and ssp585. The exercises below are independant from the above, but you'll find it much easier if you have done the above first!\n",
    "\n",
    "*Tip: the commands you'll have to run below are extremely similar to the above: they only differ by the time periods considered!*\n",
    "\n",
    "Open the two ESM files (I suggest to name each dataset `ds_ssp126` and `ds_ssp585`). Compute the following variables for each SSP:\n",
    "\n",
    "- `t2m_ssp126_annual_avg` : the annual averages of the ESM temperatures in °C\n",
    "- `t2m_ssp126_avg_historical` : the time average of t2m_ssp126_annual_avg for 1985-2014\n",
    "- `t2m_ssp126_avg_2100` : the time average of t2m_ssp126_annual_avg for 2070-2099\n",
    "- `delta_t2m_ssp126_ats` : the annual global average timeseries of temperature change with respect to 1985-20154"
   ]
  },
  {
   "cell_type": "code",
   "execution_count": null,
   "metadata": {},
   "outputs": [],
   "source": [
    "# Your answer here"
   ]
  },
  {
   "cell_type": "markdown",
   "metadata": {},
   "source": [
    "**Plot `delta_t2m_ssp126_ats` and `delta_t2m_ssp585_ats` on the same plot. Answer the following questions:**\n",
    "- **When are the two timeseries identical, and when do they start to vary from another? Can you figure out why?**\n",
    "- **What is the (approximate) temperature change at the end of the century for each scenario?**"
   ]
  },
  {
   "cell_type": "code",
   "execution_count": null,
   "metadata": {},
   "outputs": [],
   "source": [
    "# Your answer here"
   ]
  },
  {
   "cell_type": "markdown",
   "metadata": {},
   "source": [
    "**Is there any difference between `t2m_ssp585_avg_historical` and `t2m_ssp126_avg_historical`?** *hint: there should be none*. **Again: can you figure out why?**."
   ]
  },
  {
   "cell_type": "code",
   "execution_count": null,
   "metadata": {},
   "outputs": [],
   "source": [
    "# Your answer here"
   ]
  },
  {
   "cell_type": "markdown",
   "metadata": {},
   "source": [
    "**Finally, now plot the climate change map (2100 minus historical) for both scenarios, with the same colorbars. Interpret what you see.**"
   ]
  },
  {
   "cell_type": "code",
   "execution_count": null,
   "metadata": {},
   "outputs": [],
   "source": [
    "# Your answer here"
   ]
  },
  {
   "cell_type": "markdown",
   "metadata": {},
   "source": [
    "## Optional : more analyses"
   ]
  },
  {
   "cell_type": "markdown",
   "metadata": {},
   "source": [
    "From there, I'm sure you can envision for yourself the number of (in my opinion) interesting analyses you could do with very little modifications to the code above! On the top of my mind:\n",
    "- download another ESM, and see if the results are similar\n",
    "- repeat the timeseries analysis for a specific region, or a city or place. You know how to select a specific location already! What is the expected warming in Bristol, for example?\n",
    "- download more SSPs, and check the differences.\n",
    "\n",
    "Doing any of the above will help you to train all the skills you've learned recently. They are a very good way to spend some time exercising!"
   ]
  },
  {
   "cell_type": "code",
   "execution_count": null,
   "metadata": {},
   "outputs": [],
   "source": [
    "# Your answer here"
   ]
  },
  {
   "cell_type": "markdown",
   "metadata": {},
   "source": [
    "## Optional: precipitation in ERA5"
   ]
  },
  {
   "cell_type": "markdown",
   "metadata": {},
   "source": [
    "The assignment below is a nice way to train the plotting skills learned in the previous lesson. It should be relatively quick to do, and you can do it at your own pace."
   ]
  },
  {
   "cell_type": "markdown",
   "metadata": {},
   "source": [
    "Download the `ERA5_LowRes_Monthly_tp` precipitation file. \n",
    "\n",
    "Open the file with xarray and explore it. The units of monthly precipitation are wrongly labeled (unfortunately). They should read: **m per day**."
   ]
  },
  {
   "cell_type": "code",
   "execution_count": null,
   "metadata": {},
   "outputs": [],
   "source": [
    "ds = xr.open_dataset('../data/ERA5_LowRes_Monthly_tp.nc')\n",
    "ds.tp"
   ]
  },
  {
   "cell_type": "markdown",
   "metadata": {},
   "source": [
    "**Compute the average total annual precipitation (average precipitation over a year, in mm yr$^{-1}$) and store it in a variable called \"annual_prcp\". Plot it.**"
   ]
  },
  {
   "cell_type": "code",
   "execution_count": null,
   "metadata": {},
   "outputs": [],
   "source": [
    "# Your answer here"
   ]
  },
  {
   "cell_type": "markdown",
   "metadata": {},
   "source": [
    "**Draw a new plot of \"annual_prcp\", this time with a new colormap ('YlGnBu') and with the following discrete levels specified: [50, 200, 500, 700, 1000, 1500, 2000, 3000, 5000]. Now have a look at the patterns again.**\n",
    "\n",
    "**Where does it fall more than 3000 mm precipitation a year? Less than 50 mm precipitation a year?** Note that it could be possible to use the \".where()\" function (not taught yet) to highlight these areas easily. Bonus: can you come up with a plot showing these areas on the map?"
   ]
  },
  {
   "cell_type": "code",
   "execution_count": null,
   "metadata": {},
   "outputs": [],
   "source": [
    "# Your answer here"
   ]
  },
  {
   "cell_type": "markdown",
   "metadata": {},
   "source": [
    "**Plot the average precipitation in January on a map. Do the same with precipitation in July, and choose the same levels for both maps in order to compare them. Discuss the patterns that you see.**"
   ]
  },
  {
   "cell_type": "code",
   "execution_count": null,
   "metadata": {},
   "outputs": [],
   "source": [
    "# Your answer here"
   ]
  }
 ],
 "metadata": {
  "hide_input": false,
  "kernelspec": {
   "display_name": "Python 3 (ipykernel)",
   "language": "python",
   "name": "python3"
  },
  "language_info": {
   "codemirror_mode": {
    "name": "ipython",
    "version": 3
   },
   "file_extension": ".py",
   "mimetype": "text/x-python",
   "name": "python",
   "nbconvert_exporter": "python",
   "pygments_lexer": "ipython3",
   "version": "3.12.8"
  },
  "latex_envs": {
   "LaTeX_envs_menu_present": true,
   "autoclose": false,
   "autocomplete": true,
   "bibliofile": "biblio.bib",
   "cite_by": "apalike",
   "current_citInitial": 1,
   "eqLabelWithNumbers": true,
   "eqNumInitial": 1,
   "hotkeys": {
    "equation": "Ctrl-E",
    "itemize": "Ctrl-I"
   },
   "labels_anchors": false,
   "latex_user_defs": false,
   "report_style_numbering": false,
   "user_envs_cfg": false
  },
  "nbTranslate": {
   "displayLangs": [
    "*"
   ],
   "hotkey": "alt-t",
   "langInMainMenu": true,
   "sourceLang": "en",
   "targetLang": "fr",
   "useGoogleTranslate": true
  },
  "toc": {
   "base_numbering": 1,
   "nav_menu": {},
   "number_sections": false,
   "sideBar": true,
   "skip_h1_title": true,
   "title_cell": "Table of Contents",
   "title_sidebar": "Contents",
   "toc_cell": false,
   "toc_position": {},
   "toc_section_display": true,
   "toc_window_display": false
  }
 },
 "nbformat": 4,
 "nbformat_minor": 4
}
