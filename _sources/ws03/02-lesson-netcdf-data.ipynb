{
 "cells": [
  {
   "cell_type": "markdown",
   "metadata": {},
   "source": [
    "# Lesson: working with netCDF data"
   ]
  },
  {
   "cell_type": "markdown",
   "metadata": {},
   "source": [
    "In the [primer](01-primer.ipynb), you learned how to use the basic features of the python language with the numpy and matplotlib libraries. The purpose of today's lesson is to introduce you to the main tool that you will use in analysing climate data: [xarray](https://docs.xarray.dev).\n",
    "\n",
    "This is a dense lesson. Please do it entirely and try to remember its structure and content. This code will provide a template for your own code, and you can always come back to these examples when you'll need them. I don't expect you to understand all details, but I hope that you are going to get acquainted with the \"xarray way\" of manipulating multi-dimensional data. You will have to copy and adapt parts of the code below to complete the assignments."
   ]
  },
  {
   "cell_type": "markdown",
   "metadata": {},
   "source": [
    "## NetCDF Files"
   ]
  },
  {
   "cell_type": "markdown",
   "metadata": {},
   "source": [
    "In order to open and plot NetCDF files, you'll need to install the `xarray` and `netcdf4` packages: if you haven't done so already, follow the installation instructions!"
   ]
  },
  {
   "cell_type": "markdown",
   "metadata": {},
   "source": [
    "### Imports and options"
   ]
  },
  {
   "cell_type": "markdown",
   "metadata": {},
   "source": [
    "First, let's import the tools we need. Remember why we need to import our tools? If not, ask Fabien! "
   ]
  },
  {
   "cell_type": "code",
   "execution_count": null,
   "metadata": {},
   "outputs": [],
   "source": [
    "# Import the tools we are going to need today:\n",
    "import matplotlib.pyplot as plt  # plotting library\n",
    "import numpy as np  # numerical library\n",
    "import xarray as xr  # netCDF library\n",
    "import cartopy  # Map projections libary\n",
    "import cartopy.crs as ccrs  # Projections list\n",
    "# Some defaults:\n",
    "plt.rcParams['figure.figsize'] = (12, 5)  # Default plot size"
   ]
  },
  {
   "cell_type": "markdown",
   "metadata": {},
   "source": [
    "### Get the data "
   ]
  },
  {
   "cell_type": "markdown",
   "metadata": {},
   "source": [
    "Let's open the ERA5 2m air temperature file (``ERA5_LowRes_Monthly_t2m.nc``). The files are available from the [download instructions](https://fabienmaussion.info/climate_risks/ready/03-download.html) page."
   ]
  },
  {
   "cell_type": "markdown",
   "metadata": {},
   "source": [
    "### Read the data"
   ]
  },
  {
   "cell_type": "markdown",
   "metadata": {},
   "source": [
    "Most of today's meteorological data is stored in the NetCDF format (``*.nc``). NetCDF files are binary files, which means that you can't just open them in a text editor. You need a special reader for it. Nearly all the programming languages offer an interface to NetCDF. For this course we are going to use the [xarray](http://xarray.pydata.org/en/stable/) library to read the data:"
   ]
  },
  {
   "cell_type": "code",
   "execution_count": null,
   "metadata": {},
   "outputs": [],
   "source": [
    "# Here I downloaded the file in the \"data\" folder which I placed in a folder close to this notebook\n",
    "# The variable name \"ds\" stands for \"dataset\"\n",
    "ds = xr.open_dataset(r'../data/ERA5_LowRes_Monthly_t2m.nc')"
   ]
  },
  {
   "cell_type": "markdown",
   "metadata": {},
   "source": [
    "You'll have to give an absolute or relative path to the file for this to work. For example ``r'C:\\PATH\\TO\\FILE\\ERA5_LowRes_Monthly_t2m'`` on windows.\n",
    "\n",
    "**Windows users: don't forget to add the `r` before the path, which allows to use backlashes in the string.**\n",
    "\n",
    "**If you are getting an “HDF Error” related to NetCDF4 when reading the file**, install the h5netcdf library (`mamba install h5netcdf`), restart your kernel, and open the file with:\n",
    "\n",
    "    ds = xr.open_dataset(fpath, engine='h5netcdf')"
   ]
  },
  {
   "cell_type": "code",
   "execution_count": null,
   "metadata": {},
   "outputs": [],
   "source": [
    "# See what we have\n",
    "ds"
   ]
  },
  {
   "cell_type": "markdown",
   "metadata": {},
   "source": [
    "The NetCDF dataset is constituted of various elements: Dimensions, Coordinates, Variables, Attributes:\n",
    "- the dimensions specify the number of elements of each data coordinate, their names should be understandable and specific\n",
    "- the coordinates locate the data in space and time\n",
    "- the attributes provide some information about the file (metadata)\n",
    "- the variables contain the actual data. In our file there is only one variable. It has the dimensions [time, latitude, longitude], so we can expect an array of size [552, 241, 480]"
   ]
  },
  {
   "cell_type": "markdown",
   "metadata": {},
   "source": [
    "### Coordinates "
   ]
  },
  {
   "cell_type": "markdown",
   "metadata": {},
   "source": [
    "Let's have a look at the **time** coordinate first:"
   ]
  },
  {
   "cell_type": "code",
   "execution_count": null,
   "metadata": {},
   "outputs": [],
   "source": [
    "ds.time"
   ]
  },
  {
   "cell_type": "markdown",
   "metadata": {},
   "source": [
    "The array contains dates (`datetime64` to be precise). From the output we can infer that they represent the first day for each month from 1979 to 2024.\n",
    "\n",
    "The **location coordinates** are also self-explaining:"
   ]
  },
  {
   "cell_type": "code",
   "execution_count": null,
   "metadata": {},
   "outputs": [],
   "source": [
    "ds.longitude"
   ]
  },
  {
   "cell_type": "code",
   "execution_count": null,
   "metadata": {},
   "outputs": [],
   "source": [
    "ds.latitude"
   ]
  },
  {
   "cell_type": "markdown",
   "metadata": {},
   "source": [
    "**Q: what is the spatial resolution of ERA5 data you downloaded?**"
   ]
  },
  {
   "cell_type": "code",
   "execution_count": null,
   "metadata": {},
   "outputs": [],
   "source": [
    "# your answer here"
   ]
  },
  {
   "cell_type": "markdown",
   "metadata": {},
   "source": [
    "**Q: do you know what ERA5 data is? Use your favorite search engine to get some basic information about it. What institution provides the data? Which time period is it available for? Where could you get the data if you need it for your upcoming dissertation? What is the spatial resolution of ERA5 according to the data provider?**"
   ]
  },
  {
   "cell_type": "code",
   "execution_count": null,
   "metadata": {},
   "outputs": [],
   "source": [
    "# your answer here"
   ]
  },
  {
   "cell_type": "markdown",
   "metadata": {},
   "source": [
    "### Variables "
   ]
  },
  {
   "cell_type": "markdown",
   "metadata": {},
   "source": [
    "Variables can also be accessed directly from the dataset:"
   ]
  },
  {
   "cell_type": "code",
   "execution_count": null,
   "metadata": {},
   "outputs": [],
   "source": [
    "ds.t2m  # alternatively: ds['t2m']"
   ]
  },
  {
   "cell_type": "markdown",
   "metadata": {},
   "source": [
    "The **attributes** of a variable are extremely important, they carry the *metadata* and must be specified by the data provider. Here we can read in which units the variable is defined, as well as a description of the variable (the \"long_name\" attribute)."
   ]
  },
  {
   "cell_type": "markdown",
   "metadata": {},
   "source": [
    "**Q: what information can we read from this printout?**"
   ]
  },
  {
   "cell_type": "code",
   "execution_count": null,
   "metadata": {},
   "outputs": [],
   "source": [
    "# your answer here"
   ]
  },
  {
   "cell_type": "markdown",
   "metadata": {},
   "source": [
    "### Multidimensional data"
   ]
  },
  {
   "cell_type": "markdown",
   "metadata": {},
   "source": [
    "I find it very useful to always think about NetCDF data as a cube. Much like the image below:"
   ]
  },
  {
   "cell_type": "markdown",
   "metadata": {},
   "source": [
    "![](https://docs.xarray.dev/en/stable/_images/dataset-diagram.png)"
   ]
  },
  {
   "cell_type": "markdown",
   "metadata": {},
   "source": [
    "A lot of the things we will do in this unit has to do with selecting data along a dimension, or \"reducing\" data along a dimension, for example for a time or longitudinal average. The more and more you'll train those skills, the easier it will get - I promise!"
   ]
  },
  {
   "cell_type": "markdown",
   "metadata": {},
   "source": [
    "## Simple analyses "
   ]
  },
  {
   "cell_type": "markdown",
   "metadata": {},
   "source": [
    "Analysing climate data is made (relatively!) easy in Python thanks to the [xarray](https://docs.xarray.dev) and [cartopy](https://scitools.org.uk/cartopy/docs/latest/) libraries. First we are going to compute the time average of the 2 metre temperature over the entire period:"
   ]
  },
  {
   "cell_type": "code",
   "execution_count": null,
   "metadata": {},
   "outputs": [],
   "source": [
    "t2m_avg = ds.t2m.mean(dim='time')"
   ]
  },
  {
   "cell_type": "markdown",
   "metadata": {},
   "source": [
    "What did we just do? From the netcdf dataset, we exctracted the t2m variable (``ds.t2m``) and we applied the function `.mean()` to it. So an equivalent formulation could be:"
   ]
  },
  {
   "cell_type": "code",
   "execution_count": null,
   "metadata": {},
   "outputs": [],
   "source": [
    "# Equivalent code:\n",
    "t2m = ds.t2m\n",
    "t2m_avg = t2m.mean(dim='time')"
   ]
  },
  {
   "cell_type": "markdown",
   "metadata": {},
   "source": [
    "What is ``t2m_avg`` by the way?"
   ]
  },
  {
   "cell_type": "code",
   "execution_count": null,
   "metadata": {},
   "outputs": [],
   "source": [
    "t2m_avg"
   ]
  },
  {
   "cell_type": "markdown",
   "metadata": {},
   "source": [
    "So `t2m_avg` is a 2-dimensional array of dimensions [latitude, longitude]. Note that the time dimension has disappeared during the averaging, which is why this operation is sometimes described as \"data reduction\": we lost the time information by reducing it to a \"simple\" time average.\n",
    "\n",
    "When we applied the `mean()` function, we added an argument (called a **keyword argument**): ``dim='time'``. With this argument, we told the function to compute the average *over the time dimension*.\n",
    "\n",
    "Let's remove this keyword and compute the mean again:"
   ]
  },
  {
   "cell_type": "code",
   "execution_count": null,
   "metadata": {},
   "outputs": [],
   "source": [
    "t2m.mean()"
   ]
  },
  {
   "cell_type": "markdown",
   "metadata": {},
   "source": [
    "Ha! We now have an array without dimensions: a single element array, also called a **scalar**. This is the total average over all the dimensions. We'll come back to this later...\n",
    "\n",
    "*Note: scalar output is quite verbose in xarray... Your can print simpler scalars on screen with the .item() method:*"
   ]
  },
  {
   "cell_type": "code",
   "execution_count": null,
   "metadata": {},
   "outputs": [],
   "source": [
    "t2m.mean().item()"
   ]
  },
  {
   "cell_type": "markdown",
   "metadata": {},
   "source": [
    "**Q: what should we expect from the folowing commands:**\n",
    "\n",
    "    t2m.mean(dim='longitude')\n",
    "    t2m.mean(dim='time').mean(dim='longitude')\n",
    "    t2m.mean(dim=['time', 'longitude'])\n",
    "    \n",
    "**Try them out!**"
   ]
  },
  {
   "cell_type": "code",
   "execution_count": null,
   "metadata": {},
   "outputs": [],
   "source": [
    "# Try the commands above. Do they work as expected? "
   ]
  },
  {
   "cell_type": "markdown",
   "metadata": {},
   "source": [
    "**E: what is the maximum 2m temperature value? And the minimum?** ([hint](https://docs.xarray.dev/en/stable/generated/xarray.DataArray.min.html))"
   ]
  },
  {
   "cell_type": "code",
   "execution_count": null,
   "metadata": {},
   "outputs": [],
   "source": [
    "# your answer here"
   ]
  },
  {
   "cell_type": "markdown",
   "metadata": {},
   "source": [
    "## A first plot "
   ]
  },
  {
   "cell_type": "markdown",
   "metadata": {},
   "source": [
    "### 2d data"
   ]
  },
  {
   "cell_type": "markdown",
   "metadata": {},
   "source": [
    "We are now going to plot the average 2m temperature on a map:"
   ]
  },
  {
   "cell_type": "code",
   "execution_count": null,
   "metadata": {},
   "outputs": [],
   "source": [
    "# Define the map projection (how does the map look like)\n",
    "ax = plt.axes(projection=ccrs.EqualEarth())\n",
    "# ax is an empty plot. We now plot the variable sw_avg onto ax\n",
    "t2m_avg.plot(ax=ax, transform=ccrs.PlateCarree()) \n",
    "# the keyword \"transform\" tells the function in which projection the data is stored \n",
    "ax.coastlines(); ax.gridlines(); # Add gridlines and coastlines to the plot"
   ]
  },
  {
   "cell_type": "markdown",
   "metadata": {},
   "source": [
    "We are looking at the average temperature, expressed in K. Such time averages are sometimes writen with a bar on top of them:\n",
    "\n",
    "$\\overline{T_{2m}} = temporal\\_mean(T_{2m})$"
   ]
  },
  {
   "cell_type": "markdown",
   "metadata": {},
   "source": [
    "**Q: look at the basic features of the plot. Can you explain most of the patterns that you observe? Where are the highest values? The lowest ones?**"
   ]
  },
  {
   "cell_type": "markdown",
   "metadata": {},
   "source": [
    "### 1d data"
   ]
  },
  {
   "cell_type": "markdown",
   "metadata": {},
   "source": [
    "It is equally easy to plot 1d data. In this case, we are going to compute the zonal average of ``t2m_avg``. \"Zonal average\" means \"along a latitude circle\". It is sometimes writen with ``[]`` or ``<>`` in formulas:\n",
    "\n",
    "$\\left[ \\overline{T_{2m}} \\right] = zonal\\_mean(temporal\\_mean(T_{2m}))$\n",
    "\n",
    "Note that the two operators are commutative (the order does not matter), i.e.:\n",
    "\n",
    "$\\left[ \\overline{T_{2m}} \\right] = \\overline{\\left[ T_{2m} \\right]}$\n",
    "\n",
    "Let's compute it and plot it right away:"
   ]
  },
  {
   "cell_type": "code",
   "execution_count": null,
   "metadata": {},
   "outputs": [],
   "source": [
    "t2m_avg.mean(dim='longitude').plot();"
   ]
  },
  {
   "cell_type": "markdown",
   "metadata": {},
   "source": [
    "**Q: look at the basic features of the plot. Can you recognize the important features from the map above?**"
   ]
  },
  {
   "cell_type": "code",
   "execution_count": null,
   "metadata": {},
   "outputs": [],
   "source": [
    "# Your answer here"
   ]
  },
  {
   "cell_type": "markdown",
   "metadata": {},
   "source": [
    "## More data manipulation with xarray "
   ]
  },
  {
   "cell_type": "markdown",
   "metadata": {},
   "source": [
    "As you may have noted already, xarray's objects (called Dataset for the whole netCDF file or DataArray for single variables) are quite powerful, and can do more than much arrays know from other languages. in the primer we talked about the differences between python's lists and numpy's arrays. Today we introduced this new object (DataArray) which is one level higher in usability.\n",
    "\n",
    "But don't worry if this sounds confusing at first! From now on we are going to use DataArrays only. The best thing about them is that they carry their dimension names and coordinates with them. This is the reason why it was so easy to make a plot with the correct axis labels in just one command. They have very useful other properties, and we will learn these step by step."
   ]
  },
  {
   "cell_type": "markdown",
   "metadata": {},
   "source": [
    "### Arithmetics with xarray"
   ]
  },
  {
   "cell_type": "markdown",
   "metadata": {},
   "source": [
    "One of the first nice properties is that they behave just like regular arrays. That is, you can do arithmetic with them. Our first task will be to compute the 2m temperature in Celcius instead of Kelvin:\n",
    "\n",
    "$$\\overline{T_{2m}} [°C] = \\overline{T_{2m}} [K] - 273.15$$"
   ]
  },
  {
   "cell_type": "code",
   "execution_count": null,
   "metadata": {},
   "outputs": [],
   "source": [
    "# Note that there are many different ways to get to the same result. For the sake of clarity we use the simple way:\n",
    "t2m_avg_c = t2m_avg - 273.15"
   ]
  },
  {
   "cell_type": "markdown",
   "metadata": {},
   "source": [
    "**E: plot t2m_avg_c on a map like we did before. Can you figure out why did xarray use another colormap? Describe the basic features of the plot. Where is the temperature negative? Positive?** "
   ]
  },
  {
   "cell_type": "code",
   "execution_count": null,
   "metadata": {},
   "outputs": [],
   "source": [
    "# your answer here"
   ]
  },
  {
   "cell_type": "markdown",
   "metadata": {},
   "source": [
    "Let's also compute the average temperature of the globe, a policy-relevant value:"
   ]
  },
  {
   "cell_type": "code",
   "execution_count": null,
   "metadata": {},
   "outputs": [],
   "source": [
    "avg_temp = t2m_avg_c.mean().item()\n",
    "f'The average surface temperature of the Earth is (maybe): {avg_temp:.2f}°C'"
   ]
  },
  {
   "cell_type": "markdown",
   "metadata": {},
   "source": [
    "5.3°C... Sounds plausible? Maybe? \n",
    "\n",
    "**Q: use your googling skills to find out what the average global temperature really is. Quite far, isn't it?**"
   ]
  },
  {
   "cell_type": "code",
   "execution_count": null,
   "metadata": {},
   "outputs": [],
   "source": [
    "# Your answer here"
   ]
  },
  {
   "cell_type": "markdown",
   "metadata": {},
   "source": [
    "Wait?!? What is going on here?\n",
    "\n",
    "Well, this is an anoying \"problem\" with our planet: it happens to be a sphere. (Or something close to a sphere)."
   ]
  },
  {
   "cell_type": "markdown",
   "metadata": {},
   "source": [
    "### Arithmetics and averages on a sphere"
   ]
  },
  {
   "cell_type": "markdown",
   "metadata": {},
   "source": [
    "#### The problem"
   ]
  },
  {
   "cell_type": "markdown",
   "metadata": {},
   "source": [
    "Why does it matter? It's a bit complicated to explain, but I'll do my best. \n",
    "\n",
    "Let's plot the data without a map projection to try to understand what's going on:"
   ]
  },
  {
   "cell_type": "code",
   "execution_count": null,
   "metadata": {},
   "outputs": [],
   "source": [
    "t2m_avg_c.plot();"
   ]
  },
  {
   "cell_type": "markdown",
   "metadata": {},
   "source": [
    "The data is represented in the computer as a 2D image - a rectangle. This makes lots of sense from a data storage perspective: the data is global, and it has *regular* longitude and latitude intervals (0.75° - remember?).\n",
    "\n",
    "The problem however is that 0.75° longitude does **not** represent the same distance on the ground at the equator than it does at the north Pole. Actually, the poles represent a trivial example of how extreme the differences are accross latitudes: if you stand *exactly* at the north pole, the distance between two longitudes is exactly 0. Weird, huh?\n",
    "\n",
    "**Q: now use your google skills to find out the distance covered by 1° longitude at the equator. And at 45°N. Note it down below.**"
   ]
  },
  {
   "cell_type": "code",
   "execution_count": null,
   "metadata": {},
   "outputs": [],
   "source": [
    "# Your answer here"
   ]
  },
  {
   "cell_type": "markdown",
   "metadata": {},
   "source": [
    "OK, so we've figured out that the distance covered by one degree longitude changes a lot between the equator and the poles.\n",
    "\n",
    "**Q: now let's think about the latitudes. Does the same happen with latitudes? Why?**"
   ]
  },
  {
   "cell_type": "code",
   "execution_count": null,
   "metadata": {},
   "outputs": [],
   "source": [
    "# Your answer here"
   ]
  },
  {
   "cell_type": "markdown",
   "metadata": {},
   "source": [
    "#### A solution"
   ]
  },
  {
   "cell_type": "markdown",
   "metadata": {},
   "source": [
    "**The problem of computing averages on the sphere is that if we don't take this effect into account, we give way too much weight to the polar regions.** So, this is annoying but this something we have to take into account at the moment we compute spatial averages on a lat-lon dataset (which is quite often). This is why we talk about it today already. \n",
    "\n",
    "<div class=\"alert alert-success\">\n",
    "    <b>The explanations below contain a bit of maths to explain what is done. It's not necessary to remember that bit. The important message however is that one or two lines of code that you need to remember (or: copy-paste) will spare you quite some trouble later, if you use lon-lat datasets.</b>\n",
    "</div>\n",
    "\n",
    "In practice, to compute the *true* average on the sphere, we have to weight each latitudinal band by the cosinus of the latitude, i.e. $\\cos \\varphi$. As expected, $\\cos \\varphi$ tends towards 0 at the poles:"
   ]
  },
  {
   "cell_type": "code",
   "execution_count": null,
   "metadata": {},
   "outputs": [],
   "source": [
    "weight = np.cos(np.deg2rad(ds.latitude))\n",
    "weight = weight / weight.sum()"
   ]
  },
  {
   "cell_type": "markdown",
   "metadata": {},
   "source": [
    "Weight is an array of 241 elements, which is normalised so that its sum is 1. This is exactly what we need to compute a weighted average! First, we have to average over the longitudes (this is fine, because along a latitude circle all points have the same weight), and then compute the weighted average."
   ]
  },
  {
   "cell_type": "code",
   "execution_count": null,
   "metadata": {},
   "outputs": [],
   "source": [
    "zonal_t2m_avg_c = t2m_avg_c.mean(dim='longitude')  # important! Always average over longitudes first\n",
    "# this averaging is needed so that the arithmetic below makes sense \n",
    "# (multiply two arrays together)\n",
    "weighted_t2m_avg_c = np.sum(zonal_t2m_avg_c * weight)\n",
    "weighted_t2m_avg_c.item()"
   ]
  },
  {
   "cell_type": "markdown",
   "metadata": {},
   "source": [
    "Aaaah, this looks much better now. Does it match your expecations?\n",
    "\n",
    "**Note**: the remaining difference with your expectations is a combination of measurement errors, geometrical approximations (the Earth is not a perfect sphere, see e.g. [this post](https://towardsdatascience.com/the-correct-way-to-average-the-globe-92ceecd172b7), and the fact that the temperature is changing at an alarming rate, as we'll see next week."
   ]
  },
  {
   "cell_type": "markdown",
   "metadata": {},
   "source": [
    "### Data selection accross dimensions"
   ]
  },
  {
   "cell_type": "markdown",
   "metadata": {},
   "source": [
    "Very often you will want to select parts of a multidimensional dataset (we will call them **\"slices\"** sometimes, which will make sense, you'll see).Perhaps the most common example is the wish to select a timeseries of data at a given location. Let's pick Bristol:"
   ]
  },
  {
   "cell_type": "markdown",
   "metadata": {},
   "source": [
    "#### Select a location"
   ]
  },
  {
   "cell_type": "markdown",
   "metadata": {},
   "source": [
    "Perhaps the most common example is the wish to select a timeseries of data at a given location. Let's pick Bristol:"
   ]
  },
  {
   "cell_type": "code",
   "execution_count": null,
   "metadata": {},
   "outputs": [],
   "source": [
    "bristol_lat = 51.454514\n",
    "bristol_lon = -2.587910"
   ]
  },
  {
   "cell_type": "markdown",
   "metadata": {},
   "source": [
    "The [`.sel()`](https://docs.xarray.dev/en/latest/generated/xarray.DataArray.sel.html) method from xarray is all we need here:"
   ]
  },
  {
   "cell_type": "code",
   "execution_count": null,
   "metadata": {},
   "outputs": [],
   "source": [
    "t2m_bristol = ds.t2m.sel(longitude=bristol_lon, latitude=bristol_lat, method='nearest')"
   ]
  },
  {
   "cell_type": "markdown",
   "metadata": {},
   "source": [
    "**Q: explore the t2m_bristol variable. What are its dimensions? Now try to find out what `method='nearest'` does. Perhaps try to call `.sel()` without it.**\n",
    "\n",
    "**E: Now plot the variable.**"
   ]
  },
  {
   "cell_type": "code",
   "execution_count": null,
   "metadata": {},
   "outputs": [],
   "source": [
    "# Your answer here"
   ]
  },
  {
   "cell_type": "markdown",
   "metadata": {},
   "source": [
    "#### Select a specific time"
   ]
  },
  {
   "cell_type": "markdown",
   "metadata": {},
   "source": [
    "What was the monthly average temperature in Bristol in August 2022? Let's find out:"
   ]
  },
  {
   "cell_type": "code",
   "execution_count": null,
   "metadata": {},
   "outputs": [],
   "source": [
    "t2m_bristol.sel(time='2022-08-01')"
   ]
  },
  {
   "cell_type": "markdown",
   "metadata": {},
   "source": [
    "**Q: what are the dimensions of the output above? Can you understand why? Now remember also the call to `item()` for a nicer output.**"
   ]
  },
  {
   "cell_type": "code",
   "execution_count": null,
   "metadata": {},
   "outputs": [],
   "source": [
    "# Your answer here"
   ]
  },
  {
   "cell_type": "markdown",
   "metadata": {},
   "source": [
    "#### Select a time range (a slice)"
   ]
  },
  {
   "cell_type": "markdown",
   "metadata": {},
   "source": [
    "It's equally easy to select a specific year out of the time series:"
   ]
  },
  {
   "cell_type": "code",
   "execution_count": null,
   "metadata": {},
   "outputs": [],
   "source": [
    "t2m_bristol_2024 = t2m_bristol.sel(time='2024')\n",
    "t2m_bristol_2024.plot();"
   ]
  },
  {
   "cell_type": "markdown",
   "metadata": {},
   "source": [
    "Or multiple years:"
   ]
  },
  {
   "cell_type": "code",
   "execution_count": null,
   "metadata": {},
   "outputs": [],
   "source": [
    "t2m_bristol_2015_2024 = t2m_bristol.sel(time=slice('2015', '2024'))  # See?! \n",
    "t2m_bristol_2015_2024.plot();"
   ]
  },
  {
   "cell_type": "markdown",
   "metadata": {},
   "source": [
    "#### Select a time range (a slice) from a 3D cube"
   ]
  },
  {
   "cell_type": "markdown",
   "metadata": {},
   "source": [
    "Selecting a time slice out of multidimensional dataset is as simple as from a timeseries. This is what makes xarray powerful:"
   ]
  },
  {
   "cell_type": "code",
   "execution_count": null,
   "metadata": {},
   "outputs": [],
   "source": [
    "t2m_slice = ds.t2m.sel(time=slice('2015', '2024')) "
   ]
  },
  {
   "cell_type": "markdown",
   "metadata": {},
   "source": [
    "**Q: compare the dimensions of `t2m_bristol_2015_2024` and `t2m_slice`. Compare the two calls to `.sel()` in both cases. Are they any different? Note for yourself what this means:**"
   ]
  },
  {
   "cell_type": "code",
   "execution_count": null,
   "metadata": {},
   "outputs": [],
   "source": [
    "# Your answer here"
   ]
  },
  {
   "cell_type": "markdown",
   "metadata": {},
   "source": [
    "### Plot several lines on a line plot"
   ]
  },
  {
   "cell_type": "markdown",
   "metadata": {},
   "source": [
    "With the help of a few commands, it is not a big deal to make a nice looking plot:"
   ]
  },
  {
   "cell_type": "code",
   "execution_count": null,
   "metadata": {},
   "outputs": [],
   "source": [
    "t2m_bristol = ds.t2m.sel(longitude=bristol_lon, latitude=bristol_lat, method='nearest')\n",
    "t2m_edimburgh = ds.t2m.sel(longitude=3.1883, latitude=55.9533, method='nearest')\n",
    "\n",
    "t2m_bristol.plot(label='Bristol', linewidth=3)\n",
    "t2m_edimburgh = t2m_edimburgh.plot(label='Edinburgh', linewidth=3)\n",
    "\n",
    "plt.title('2m temperature - two cities')\n",
    "plt.legend(loc='best')\n",
    "plt.ylabel('K');"
   ]
  },
  {
   "cell_type": "code",
   "execution_count": null,
   "metadata": {},
   "outputs": [],
   "source": []
  }
 ],
 "metadata": {
  "hide_input": false,
  "kernelspec": {
   "display_name": "Python 3 (ipykernel)",
   "language": "python",
   "name": "python3"
  },
  "language_info": {
   "codemirror_mode": {
    "name": "ipython",
    "version": 3
   },
   "file_extension": ".py",
   "mimetype": "text/x-python",
   "name": "python",
   "nbconvert_exporter": "python",
   "pygments_lexer": "ipython3",
   "version": "3.12.8"
  },
  "latex_envs": {
   "LaTeX_envs_menu_present": true,
   "autoclose": false,
   "autocomplete": true,
   "bibliofile": "biblio.bib",
   "cite_by": "apalike",
   "current_citInitial": 1,
   "eqLabelWithNumbers": true,
   "eqNumInitial": 1,
   "hotkeys": {
    "equation": "Ctrl-E",
    "itemize": "Ctrl-I"
   },
   "labels_anchors": false,
   "latex_user_defs": false,
   "report_style_numbering": false,
   "user_envs_cfg": false
  },
  "nbTranslate": {
   "displayLangs": [
    "*"
   ],
   "hotkey": "alt-t",
   "langInMainMenu": true,
   "sourceLang": "en",
   "targetLang": "fr",
   "useGoogleTranslate": true
  },
  "toc": {
   "base_numbering": 1,
   "nav_menu": {},
   "number_sections": false,
   "sideBar": true,
   "skip_h1_title": true,
   "title_cell": "Table of Contents",
   "title_sidebar": "Contents",
   "toc_cell": false,
   "toc_position": {},
   "toc_section_display": true,
   "toc_window_display": false
  }
 },
 "nbformat": 4,
 "nbformat_minor": 4
}
