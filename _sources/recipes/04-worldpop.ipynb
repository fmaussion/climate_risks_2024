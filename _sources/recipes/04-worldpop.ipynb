{
 "cells": [
  {
   "cell_type": "markdown",
   "id": "0",
   "metadata": {},
   "source": [
    "# Regridding WorldPop data to your region of choice"
   ]
  },
  {
   "cell_type": "markdown",
   "id": "1",
   "metadata": {},
   "source": [
    "I downloaded the global 1km 2020 population product from WorldPop here: https://hub.worldpop.org/doi/10.5258/SOTON/WP00647. Now we will see how we can match these data to another dataset, say for example ERA5 data at 0.25° resolution that I prepared with [this script](https://nbviewer.org/urls/cluster.klima.uni-bremen.de/~fmaussion/teaching/qcr/notebooks/download_era5_hr_wa.ipynb)."
   ]
  },
  {
   "cell_type": "code",
   "execution_count": null,
   "id": "2",
   "metadata": {},
   "outputs": [],
   "source": [
    "# Import the tools we are going to need today:\n",
    "import matplotlib.pyplot as plt  # plotting library\n",
    "import numpy as np  # numerical library\n",
    "import xarray as xr  # netCDF library\n",
    "import cartopy  # Map projections libary\n",
    "import cartopy.crs as ccrs  # Projections list\n",
    "\n",
    "import rioxarray as rioxr  # Open geotiffs with xarray\n",
    "import xesmf as xe  # Regridder"
   ]
  },
  {
   "cell_type": "markdown",
   "id": "3",
   "metadata": {},
   "source": [
    "The key package here is [xesmf](https://xesmf.readthedocs.io/). \n",
    "\n",
    "**Installing additional packages in an existing environmnent is easy, but only do it if you need a given package!** \n",
    "\n",
    "1. Start by opening a prompt and activating the `qcr` environment as usual: `conda activate qcr`\n",
    "2. Now, install the requested packages. Let's install a few at a time: type `mamba install --channel conda-forge xesmf` (or, if `mamba` is not available, `conda install --channel conda-forge xesmf`). Answer yes to the questions.\n",
    "3. That's it! you can start jupyter-lab as usual."
   ]
  },
  {
   "cell_type": "markdown",
   "id": "4",
   "metadata": {},
   "source": [
    "## WorldPop data"
   ]
  },
  {
   "cell_type": "markdown",
   "id": "5",
   "metadata": {},
   "source": [
    "Open the data with rasterio, as explained in Workshop 8:"
   ]
  },
  {
   "cell_type": "code",
   "execution_count": null,
   "id": "6",
   "metadata": {},
   "outputs": [],
   "source": [
    "worldpop = rioxr.open_rasterio(\"../data/worldpop/ppp_2020_1km_Aggregated.tif\", masked=True).squeeze()\n",
    "worldpop = worldpop.rename({'x':'longitude', 'y':'latitude'})  # xesmf wants this"
   ]
  },
  {
   "cell_type": "markdown",
   "id": "7",
   "metadata": {},
   "source": [
    "Let's count how many we are:"
   ]
  },
  {
   "cell_type": "code",
   "execution_count": null,
   "id": "8",
   "metadata": {},
   "outputs": [],
   "source": [
    "f'There were  {worldpop.sum().item() * 1e-9:.1f} billion of us in 2020'"
   ]
  },
  {
   "cell_type": "markdown",
   "id": "9",
   "metadata": {},
   "source": [
    "The data is global at 1km resolution, which is quite a lot of data! Let's select data for West Africa only:"
   ]
  },
  {
   "cell_type": "code",
   "execution_count": null,
   "id": "10",
   "metadata": {},
   "outputs": [],
   "source": [
    "worldpop = worldpop.sel(longitude=slice(-20, 15), latitude=slice(21, 3)).squeeze()"
   ]
  },
  {
   "cell_type": "markdown",
   "id": "11",
   "metadata": {},
   "source": [
    "Let's plot it:"
   ]
  },
  {
   "cell_type": "code",
   "execution_count": null,
   "id": "12",
   "metadata": {},
   "outputs": [],
   "source": [
    "# Define the map projection (how does the map look like)\n",
    "ax = plt.axes(projection=ccrs.PlateCarree())\n",
    "# ax is an empty plot. We now plot the variable sw_avg onto ax\n",
    "worldpop.plot.imshow(ax=ax, transform=ccrs.PlateCarree(), \n",
    "                     levels=[1, 10, 50, 100, 500, 1000, 5000],\n",
    "                     cmap='YlOrRd') \n",
    "# the keyword \"transform\" tells the function in which projection the data is stored \n",
    "ax.coastlines(); ax.gridlines(); # Add gridlines and coastlines to the plot\n",
    "# We set the extent of the map\n",
    "extent = [worldpop.longitude.min(), worldpop.longitude.max(), \n",
    "          worldpop.latitude.min(), worldpop.latitude.max()]\n",
    "ax.set_extent(extent, crs=ccrs.PlateCarree())"
   ]
  },
  {
   "cell_type": "markdown",
   "id": "13",
   "metadata": {},
   "source": [
    "This is the population at 1km resolution."
   ]
  },
  {
   "cell_type": "markdown",
   "id": "14",
   "metadata": {},
   "source": [
    "## ERA5 data"
   ]
  },
  {
   "cell_type": "markdown",
   "id": "15",
   "metadata": {},
   "source": [
    "Let's open the ERA5 dataset (here precip):"
   ]
  },
  {
   "cell_type": "code",
   "execution_count": null,
   "id": "16",
   "metadata": {},
   "outputs": [],
   "source": [
    "ds = xr.open_dataset('../data/ERA5_WestAfrica/ERA5_LowRes_Monthly_tp.nc')\n",
    "\n",
    "# Annual precip\n",
    "annual_prcp = ds.tp.mean(dim='time') * 365.25 * 1000\n",
    "\n",
    "# Plot it\n",
    "ax = plt.axes(projection=ccrs.PlateCarree())\n",
    "\n",
    "annual_prcp.plot(ax=ax, transform=ccrs.PlateCarree(),\n",
    "                 levels=[10, 20, 50, 100, 500, 700, 1000, 2000, 3000],\n",
    "                 cmap='Blues') \n",
    "\n",
    "ax.coastlines(); ax.gridlines();\n",
    "ax.add_feature(cartopy.feature.BORDERS, linestyle='--');\n",
    "\n",
    "extent = [ds.longitude.min(), ds.longitude.max(), ds.latitude.min(), ds.latitude.max()]\n",
    "ax.set_extent(extent, crs=ccrs.PlateCarree())"
   ]
  },
  {
   "cell_type": "markdown",
   "id": "17",
   "metadata": {},
   "source": [
    "## Regridding"
   ]
  },
  {
   "cell_type": "markdown",
   "id": "18",
   "metadata": {},
   "source": [
    "Regridding is a very common processing step in GIS and climate science. The most frequent step is to resample the **high resolution dataset onto the low resolution one**. \n",
    "\n",
    "We'll do this using [xesmf](https://xesmf.readthedocs.io/). This is normally quite straightforward, but there is one particularity with population data: we are interested in summing, not averaging - xesmf can do only conservative averaginf. Therefore, before regridding, we have to transform population totals in population density instead. Let's start by computing the area of the worldpop gred cells:"
   ]
  },
  {
   "cell_type": "code",
   "execution_count": null,
   "id": "19",
   "metadata": {},
   "outputs": [],
   "source": [
    "# Define Earth's radius in kilometers\n",
    "earth_radius_km = 6371  # Earth's radius in km\n",
    "\n",
    "# Calculate the grid spacing in radians\n",
    "dx = np.deg2rad(worldpop.longitude[1] - worldpop.longitude[0]) \n",
    "\n",
    "# Compute grid cell area in square kilometers\n",
    "# - dx**2 gives the area in radians squared\n",
    "# - np.cos(np.deg2rad(worldpop.y)) accounts for latitude-dependent stretching of grid cells\n",
    "# - Multiplying by earth_radius_km**2 scales the area to square kilometers\n",
    "worldpop_area_km = earth_radius_km**2 * dx**2 * np.cos(np.deg2rad(worldpop.latitude))\n",
    "\n",
    "# Expand area to match the full worldpop dataset dimensions\n",
    "# - worldpop * 0 ensures that the area array has the same shape as worldpop (broadcasting)\n",
    "# - This is useful when working with multi-dimensional data\n",
    "worldpop_area_km = worldpop * 0 + worldpop_area_km\n",
    "\n",
    "# Now worldpop_area_km has the same shape as worldpop and represents the area of each grid cell in km²\n",
    "worldpop_area_km.plot.imshow();"
   ]
  },
  {
   "cell_type": "markdown",
   "id": "20",
   "metadata": {},
   "source": [
    "Now compute the population density (per km2):"
   ]
  },
  {
   "cell_type": "code",
   "execution_count": null,
   "id": "21",
   "metadata": {},
   "outputs": [],
   "source": [
    "worldpop_dens = worldpop / worldpop_area_km"
   ]
  },
  {
   "cell_type": "markdown",
   "id": "22",
   "metadata": {},
   "source": [
    "And replace nans with 0s (**important! conservative regridding works best with no missing data, and missing data here equals no populations anyways**):"
   ]
  },
  {
   "cell_type": "code",
   "execution_count": null,
   "id": "23",
   "metadata": {},
   "outputs": [],
   "source": [
    "worldpop_dens = worldpop_dens.fillna(0)"
   ]
  },
  {
   "cell_type": "markdown",
   "id": "24",
   "metadata": {},
   "source": [
    "**Regrid the population density:**"
   ]
  },
  {
   "cell_type": "code",
   "execution_count": null,
   "id": "25",
   "metadata": {},
   "outputs": [],
   "source": [
    "do_compute = False  # I set it to false because I already computed it\n",
    "if do_compute:\n",
    "    # This may take several minutes - I show a trick to make it faster below,\n",
    "    # but this is the most accurate way\n",
    "    regridder = xe.Regridder(worldpop_dens, annual_prcp, method='conservative')\n",
    "    worldpop_dens_on_era5 = regridder(worldpop_dens)\n",
    "    \n",
    "    # And convert the population density back to population totals:\n",
    "    dx_era = np.deg2rad(ds.longitude[1] - ds.longitude[0]) \n",
    "    era_area_km = earth_radius_km**2 * dx_era**2 * np.cos(np.deg2rad(ds.latitude))\n",
    "    era_area_km = annual_prcp * 0 + era_area_km\n",
    "    worldpop_on_era5 = worldpop_dens_on_era5 * era_area_km\n",
    "    \n",
    "    # Important - to avoid having to regrid each time, lets save the data \n",
    "    worldpop_on_era5.to_netcdf('../data/worldpop/ppp_2020_era5_westafrica.nc')\n",
    "\n",
    "# Read the file we reggrided\n",
    "worldpop_on_era5 = xr.open_dataarray('../data/worldpop/ppp_2020_era5_westafrica.nc')"
   ]
  },
  {
   "cell_type": "code",
   "execution_count": null,
   "id": "26",
   "metadata": {},
   "outputs": [],
   "source": [
    "# Quick check\n",
    "np.testing.assert_allclose(worldpop_on_era5.sum() * 1e-6, worldpop.sum() * 1e-6, rtol=0.001)"
   ]
  },
  {
   "cell_type": "code",
   "execution_count": null,
   "id": "27",
   "metadata": {},
   "outputs": [],
   "source": [
    "# Plot it\n",
    "ax = plt.axes(projection=ccrs.PlateCarree())\n",
    "\n",
    "worldpop_on_era5.plot(ax=ax, transform=ccrs.PlateCarree(), \n",
    "                      levels=[10, 50, 500, 5000, 10000, 50000, 100000],\n",
    "                      cmap='YlOrRd') \n",
    "\n",
    "ax.coastlines(); ax.gridlines();\n",
    "ax.add_feature(cartopy.feature.BORDERS, linestyle='--');\n",
    "\n",
    "extent = [ds.longitude.min(), ds.longitude.max(), ds.latitude.min(), ds.latitude.max()]\n",
    "ax.set_extent(extent, crs=ccrs.PlateCarree())"
   ]
  },
  {
   "cell_type": "markdown",
   "id": "28",
   "metadata": {},
   "source": [
    "Now we have populations per ERA5 grid cell!"
   ]
  },
  {
   "cell_type": "markdown",
   "id": "29",
   "metadata": {},
   "source": [
    "## In a rush? Coarsen high-resolution data"
   ]
  },
  {
   "cell_type": "markdown",
   "id": "30",
   "metadata": {},
   "source": [
    "In the steps above, we are conservatively regridding 1km data onto a ~25km dataset (ERA5). The regridding takes time because the algorithm is careful in preserving the population density. To be honest, we could do a very similar job with a coarser resolution data. Let's try that:"
   ]
  },
  {
   "cell_type": "code",
   "execution_count": null,
   "id": "31",
   "metadata": {},
   "outputs": [],
   "source": [
    "worldpop_5km = worldpop.coarsen(longitude=5, latitude=5, boundary='trim').sum()  # We are counting population here, so sum() it is\n",
    "worldpop_5km.shape"
   ]
  },
  {
   "cell_type": "markdown",
   "id": "32",
   "metadata": {},
   "source": [
    "This is much more manageable. Let's regrid this:"
   ]
  },
  {
   "cell_type": "code",
   "execution_count": null,
   "id": "33",
   "metadata": {},
   "outputs": [],
   "source": [
    "# Calculate pop density\n",
    "dx_5km = np.deg2rad(worldpop_5km.longitude[1] - worldpop_5km.longitude[0]) \n",
    "area_5km = worldpop_5km * 0 + earth_radius_km**2 * dx_5km**2 * np.cos(np.deg2rad(worldpop_5km.latitude))\n",
    "density_5km = worldpop_5km / area_5km\n",
    "\n",
    "# Regrid (takes much less time)\n",
    "regridder = xe.Regridder(density_5km, annual_prcp, method='conservative')\n",
    "density_5km_on_era = regridder(density_5km)\n",
    "    \n",
    "# And convert the population density back to population totals:\n",
    "dx_era = np.deg2rad(ds.longitude[1] - ds.longitude[0]) \n",
    "era_area_km = annual_prcp * 0 + earth_radius_km**2 * dx_era**2 * np.cos(np.deg2rad(ds.latitude))\n",
    "worldpop_5km_on_era5 = density_5km_on_era * era_area_km"
   ]
  },
  {
   "cell_type": "markdown",
   "id": "34",
   "metadata": {},
   "source": [
    "Check the difference to the \"exact\" solution:"
   ]
  },
  {
   "cell_type": "code",
   "execution_count": null,
   "id": "35",
   "metadata": {},
   "outputs": [],
   "source": [
    "(worldpop_5km_on_era5 - worldpop_on_era5).plot(cmap='RdBu', vmin=-1e4, vmax=1e4);"
   ]
  },
  {
   "cell_type": "markdown",
   "id": "36",
   "metadata": {},
   "source": [
    "There are some small differences but they are not really relevant in context:"
   ]
  },
  {
   "cell_type": "code",
   "execution_count": null,
   "id": "37",
   "metadata": {},
   "outputs": [],
   "source": [
    "worldpop_5km_on_era5.sum().item(), worldpop_on_era5.sum().item()"
   ]
  }
 ],
 "metadata": {
  "kernelspec": {
   "display_name": "Python 3 (ipykernel)",
   "language": "python",
   "name": "python3"
  },
  "language_info": {
   "codemirror_mode": {
    "name": "ipython",
    "version": 3
   },
   "file_extension": ".py",
   "mimetype": "text/x-python",
   "name": "python",
   "nbconvert_exporter": "python",
   "pygments_lexer": "ipython3",
   "version": "3.12.8"
  }
 },
 "nbformat": 4,
 "nbformat_minor": 5
}
